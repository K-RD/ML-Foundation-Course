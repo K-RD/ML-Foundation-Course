{
 "cells": [
  {
   "cell_type": "markdown",
   "id": "6324e08b",
   "metadata": {},
   "source": [
    "## Series"
   ]
  },
  {
   "cell_type": "code",
   "execution_count": 1,
   "id": "73c68879",
   "metadata": {},
   "outputs": [],
   "source": [
    "import pandas as pd"
   ]
  },
  {
   "cell_type": "code",
   "execution_count": 2,
   "id": "1ef4ba75",
   "metadata": {},
   "outputs": [
    {
     "data": {
      "text/plain": [
       "0    1\n",
       "1    2\n",
       "2    3\n",
       "3    4\n",
       "4    5\n",
       "dtype: int64"
      ]
     },
     "execution_count": 2,
     "metadata": {},
     "output_type": "execute_result"
    }
   ],
   "source": [
    "pd.Series([1,2,3,4,5])"
   ]
  },
  {
   "cell_type": "code",
   "execution_count": 3,
   "id": "fcc80d19",
   "metadata": {},
   "outputs": [],
   "source": [
    "a=pd.Series([1,2,3,4,5])"
   ]
  },
  {
   "cell_type": "code",
   "execution_count": 4,
   "id": "da9c2d59",
   "metadata": {},
   "outputs": [
    {
     "data": {
      "text/plain": [
       "numpy.dtype[int64]"
      ]
     },
     "execution_count": 4,
     "metadata": {},
     "output_type": "execute_result"
    }
   ],
   "source": [
    "type(a.dtype)"
   ]
  },
  {
   "cell_type": "code",
   "execution_count": 5,
   "id": "41b95b61",
   "metadata": {},
   "outputs": [
    {
     "name": "stdout",
     "output_type": "stream",
     "text": [
      "day1    420\n",
      "day2    380\n",
      "day3    390\n",
      "dtype: int64\n"
     ]
    }
   ],
   "source": [
    "b={\"day1\": 420, \"day2\": 380, \"day3\": 390}\n",
    "\n",
    "c=pd.Series(b)\n",
    "print(c)"
   ]
  },
  {
   "cell_type": "code",
   "execution_count": 6,
   "id": "50bab388",
   "metadata": {},
   "outputs": [
    {
     "name": "stdout",
     "output_type": "stream",
     "text": [
      "sohan       34\n",
      "ram         56\n",
      "mohan       43\n",
      "prashant    65\n",
      "rohit       76\n",
      "abhishek    87\n",
      "gabbar      34\n",
      "himanshu    34\n",
      "ankit       54\n",
      "raushan     65\n",
      "dtype: int64\n"
     ]
    }
   ],
   "source": [
    "marks=[34,56,43,65,76,87,34,34,54,65]\n",
    "name=['sohan','ram','mohan','prashant','rohit','abhishek','gabbar','himanshu','ankit','raushan']\n",
    "\n",
    "classMarks=pd.Series(data=marks,index=name)\n",
    "print(classMarks)"
   ]
  },
  {
   "cell_type": "code",
   "execution_count": 13,
   "id": "f4334dc9",
   "metadata": {},
   "outputs": [
    {
     "data": {
      "text/html": [
       "<div>\n",
       "<style scoped>\n",
       "    .dataframe tbody tr th:only-of-type {\n",
       "        vertical-align: middle;\n",
       "    }\n",
       "\n",
       "    .dataframe tbody tr th {\n",
       "        vertical-align: top;\n",
       "    }\n",
       "\n",
       "    .dataframe thead th {\n",
       "        text-align: right;\n",
       "    }\n",
       "</style>\n",
       "<table border=\"1\" class=\"dataframe\">\n",
       "  <thead>\n",
       "    <tr style=\"text-align: right;\">\n",
       "      <th></th>\n",
       "      <th>0</th>\n",
       "      <th>1</th>\n",
       "      <th>2</th>\n",
       "      <th>3</th>\n",
       "      <th>4</th>\n",
       "      <th>5</th>\n",
       "      <th>6</th>\n",
       "      <th>7</th>\n",
       "      <th>8</th>\n",
       "      <th>9</th>\n",
       "      <th>...</th>\n",
       "      <th>20</th>\n",
       "      <th>21</th>\n",
       "      <th>22</th>\n",
       "      <th>23</th>\n",
       "      <th>24</th>\n",
       "      <th>25</th>\n",
       "      <th>26</th>\n",
       "      <th>27</th>\n",
       "      <th>28</th>\n",
       "      <th>29</th>\n",
       "    </tr>\n",
       "  </thead>\n",
       "  <tbody>\n",
       "    <tr>\n",
       "      <th>0</th>\n",
       "      <td>279</td>\n",
       "      <td>8187</td>\n",
       "      <td>8866</td>\n",
       "      <td>7618</td>\n",
       "      <td>770</td>\n",
       "      <td>55700</td>\n",
       "      <td>32155</td>\n",
       "      <td>21777</td>\n",
       "      <td>38136</td>\n",
       "      <td>1435</td>\n",
       "      <td>...</td>\n",
       "      <td>3114</td>\n",
       "      <td>2895</td>\n",
       "      <td>223</td>\n",
       "      <td>9323</td>\n",
       "      <td>5482</td>\n",
       "      <td>1140</td>\n",
       "      <td>14850</td>\n",
       "      <td>477</td>\n",
       "      <td>2396</td>\n",
       "      <td>2438</td>\n",
       "    </tr>\n",
       "  </tbody>\n",
       "</table>\n",
       "<p>1 rows × 30 columns</p>\n",
       "</div>"
      ],
      "text/plain": [
       "    0     1     2     3    4      5      6      7      8     9   ...    20  \\\n",
       "0  279  8187  8866  7618  770  55700  32155  21777  38136  1435  ...  3114   \n",
       "\n",
       "     21   22    23    24    25     26   27    28    29  \n",
       "0  2895  223  9323  5482  1140  14850  477  2396  2438  \n",
       "\n",
       "[1 rows x 30 columns]"
      ]
     },
     "execution_count": 13,
     "metadata": {},
     "output_type": "execute_result"
    }
   ],
   "source": [
    "data=pd.read_csv('./data/random.csv',header=None).squeeze('columns')\n",
    "# print(data)\n",
    "data"
   ]
  },
  {
   "cell_type": "code",
   "execution_count": 14,
   "id": "4ec38188",
   "metadata": {},
   "outputs": [
    {
     "data": {
      "text/plain": [
       "0      46134\n",
       "1          0\n",
       "2        279\n",
       "3       8187\n",
       "4       8866\n",
       "       ...  \n",
       "105        0\n",
       "106      169\n",
       "107       36\n",
       "108       36\n",
       "109      489\n",
       "Name: value, Length: 110, dtype: object"
      ]
     },
     "execution_count": 14,
     "metadata": {},
     "output_type": "execute_result"
    }
   ],
   "source": [
    "survey=pd.read_csv('./data/annual-survey.csv',usecols=['value']).squeeze('columns')\n",
    "# print(survey)\n",
    "survey"
   ]
  },
  {
   "cell_type": "code",
   "execution_count": 15,
   "id": "2db4b384",
   "metadata": {},
   "outputs": [
    {
     "data": {
      "text/html": [
       "<div>\n",
       "<style scoped>\n",
       "    .dataframe tbody tr th:only-of-type {\n",
       "        vertical-align: middle;\n",
       "    }\n",
       "\n",
       "    .dataframe tbody tr th {\n",
       "        vertical-align: top;\n",
       "    }\n",
       "\n",
       "    .dataframe thead th {\n",
       "        text-align: right;\n",
       "    }\n",
       "</style>\n",
       "<table border=\"1\" class=\"dataframe\">\n",
       "  <thead>\n",
       "    <tr style=\"text-align: right;\">\n",
       "      <th></th>\n",
       "      <th>0</th>\n",
       "      <th>1</th>\n",
       "      <th>2</th>\n",
       "      <th>3</th>\n",
       "      <th>4</th>\n",
       "      <th>5</th>\n",
       "      <th>6</th>\n",
       "      <th>7</th>\n",
       "      <th>8</th>\n",
       "      <th>9</th>\n",
       "      <th>...</th>\n",
       "      <th>20</th>\n",
       "      <th>21</th>\n",
       "      <th>22</th>\n",
       "      <th>23</th>\n",
       "      <th>24</th>\n",
       "      <th>25</th>\n",
       "      <th>26</th>\n",
       "      <th>27</th>\n",
       "      <th>28</th>\n",
       "      <th>29</th>\n",
       "    </tr>\n",
       "  </thead>\n",
       "  <tbody>\n",
       "    <tr>\n",
       "      <th>0</th>\n",
       "      <td>279</td>\n",
       "      <td>8187</td>\n",
       "      <td>8866</td>\n",
       "      <td>7618</td>\n",
       "      <td>770</td>\n",
       "      <td>55700</td>\n",
       "      <td>32155</td>\n",
       "      <td>21777</td>\n",
       "      <td>38136</td>\n",
       "      <td>1435</td>\n",
       "      <td>...</td>\n",
       "      <td>3114</td>\n",
       "      <td>2895</td>\n",
       "      <td>223</td>\n",
       "      <td>9323</td>\n",
       "      <td>5482</td>\n",
       "      <td>1140</td>\n",
       "      <td>14850</td>\n",
       "      <td>477</td>\n",
       "      <td>2396</td>\n",
       "      <td>2438</td>\n",
       "    </tr>\n",
       "  </tbody>\n",
       "</table>\n",
       "<p>1 rows × 30 columns</p>\n",
       "</div>"
      ],
      "text/plain": [
       "    0     1     2     3    4      5      6      7      8     9   ...    20  \\\n",
       "0  279  8187  8866  7618  770  55700  32155  21777  38136  1435  ...  3114   \n",
       "\n",
       "     21   22    23    24    25     26   27    28    29  \n",
       "0  2895  223  9323  5482  1140  14850  477  2396  2438  \n",
       "\n",
       "[1 rows x 30 columns]"
      ]
     },
     "execution_count": 15,
     "metadata": {},
     "output_type": "execute_result"
    }
   ],
   "source": [
    "data.head()"
   ]
  },
  {
   "cell_type": "code",
   "execution_count": 16,
   "id": "4de25f9f",
   "metadata": {},
   "outputs": [
    {
     "data": {
      "text/plain": [
       "0    46134\n",
       "1        0\n",
       "2      279\n",
       "3     8187\n",
       "4     8866\n",
       "Name: value, dtype: object"
      ]
     },
     "execution_count": 16,
     "metadata": {},
     "output_type": "execute_result"
    }
   ],
   "source": [
    "survey.head()"
   ]
  },
  {
   "cell_type": "code",
   "execution_count": 17,
   "id": "95a6c618",
   "metadata": {},
   "outputs": [],
   "source": [
    "survey_data=pd.read_csv('./data/annual-survey.csv')"
   ]
  },
  {
   "cell_type": "code",
   "execution_count": 18,
   "id": "0b5ad908",
   "metadata": {},
   "outputs": [
    {
     "data": {
      "text/html": [
       "<div>\n",
       "<style scoped>\n",
       "    .dataframe tbody tr th:only-of-type {\n",
       "        vertical-align: middle;\n",
       "    }\n",
       "\n",
       "    .dataframe tbody tr th {\n",
       "        vertical-align: top;\n",
       "    }\n",
       "\n",
       "    .dataframe thead th {\n",
       "        text-align: right;\n",
       "    }\n",
       "</style>\n",
       "<table border=\"1\" class=\"dataframe\">\n",
       "  <thead>\n",
       "    <tr style=\"text-align: right;\">\n",
       "      <th></th>\n",
       "      <th>year</th>\n",
       "      <th>industry_code_ANZSIC</th>\n",
       "      <th>industry_name_ANZSIC</th>\n",
       "      <th>rme_size_grp</th>\n",
       "      <th>variable</th>\n",
       "      <th>value</th>\n",
       "      <th>unit</th>\n",
       "    </tr>\n",
       "  </thead>\n",
       "  <tbody>\n",
       "    <tr>\n",
       "      <th>0</th>\n",
       "      <td>2011</td>\n",
       "      <td>A</td>\n",
       "      <td>Agriculture, Forestry and Fishing</td>\n",
       "      <td>a_0</td>\n",
       "      <td>Activity unit</td>\n",
       "      <td>46134</td>\n",
       "      <td>COUNT</td>\n",
       "    </tr>\n",
       "    <tr>\n",
       "      <th>1</th>\n",
       "      <td>2011</td>\n",
       "      <td>A</td>\n",
       "      <td>Agriculture, Forestry and Fishing</td>\n",
       "      <td>a_0</td>\n",
       "      <td>Rolling mean employees</td>\n",
       "      <td>0</td>\n",
       "      <td>COUNT</td>\n",
       "    </tr>\n",
       "    <tr>\n",
       "      <th>2</th>\n",
       "      <td>2011</td>\n",
       "      <td>A</td>\n",
       "      <td>Agriculture, Forestry and Fishing</td>\n",
       "      <td>a_0</td>\n",
       "      <td>Salaries and wages paid</td>\n",
       "      <td>279</td>\n",
       "      <td>DOLLARS(millions)</td>\n",
       "    </tr>\n",
       "    <tr>\n",
       "      <th>3</th>\n",
       "      <td>2011</td>\n",
       "      <td>A</td>\n",
       "      <td>Agriculture, Forestry and Fishing</td>\n",
       "      <td>a_0</td>\n",
       "      <td>Sales, government funding, grants and subsidies</td>\n",
       "      <td>8187</td>\n",
       "      <td>DOLLARS(millions)</td>\n",
       "    </tr>\n",
       "    <tr>\n",
       "      <th>4</th>\n",
       "      <td>2011</td>\n",
       "      <td>A</td>\n",
       "      <td>Agriculture, Forestry and Fishing</td>\n",
       "      <td>a_0</td>\n",
       "      <td>Total income</td>\n",
       "      <td>8866</td>\n",
       "      <td>DOLLARS(millions)</td>\n",
       "    </tr>\n",
       "  </tbody>\n",
       "</table>\n",
       "</div>"
      ],
      "text/plain": [
       "   year industry_code_ANZSIC               industry_name_ANZSIC rme_size_grp  \\\n",
       "0  2011                    A  Agriculture, Forestry and Fishing          a_0   \n",
       "1  2011                    A  Agriculture, Forestry and Fishing          a_0   \n",
       "2  2011                    A  Agriculture, Forestry and Fishing          a_0   \n",
       "3  2011                    A  Agriculture, Forestry and Fishing          a_0   \n",
       "4  2011                    A  Agriculture, Forestry and Fishing          a_0   \n",
       "\n",
       "                                          variable  value               unit  \n",
       "0                                    Activity unit  46134              COUNT  \n",
       "1                           Rolling mean employees      0              COUNT  \n",
       "2                          Salaries and wages paid    279  DOLLARS(millions)  \n",
       "3  Sales, government funding, grants and subsidies   8187  DOLLARS(millions)  \n",
       "4                                     Total income   8866  DOLLARS(millions)  "
      ]
     },
     "execution_count": 18,
     "metadata": {},
     "output_type": "execute_result"
    }
   ],
   "source": [
    "survey_data.head()"
   ]
  },
  {
   "cell_type": "code",
   "execution_count": 19,
   "id": "e3afc209",
   "metadata": {},
   "outputs": [
    {
     "name": "stdout",
     "output_type": "stream",
     "text": [
      "<class 'pandas.core.frame.DataFrame'>\n",
      "RangeIndex: 110 entries, 0 to 109\n",
      "Data columns (total 7 columns):\n",
      " #   Column                Non-Null Count  Dtype \n",
      "---  ------                --------------  ----- \n",
      " 0   year                  110 non-null    int64 \n",
      " 1   industry_code_ANZSIC  110 non-null    object\n",
      " 2   industry_name_ANZSIC  110 non-null    object\n",
      " 3   rme_size_grp          110 non-null    object\n",
      " 4   variable              110 non-null    object\n",
      " 5   value                 110 non-null    object\n",
      " 6   unit                  110 non-null    object\n",
      "dtypes: int64(1), object(6)\n",
      "memory usage: 6.1+ KB\n"
     ]
    }
   ],
   "source": [
    "survey_data.info()"
   ]
  },
  {
   "cell_type": "code",
   "execution_count": 20,
   "id": "d21ce149",
   "metadata": {},
   "outputs": [
    {
     "data": {
      "text/html": [
       "<div>\n",
       "<style scoped>\n",
       "    .dataframe tbody tr th:only-of-type {\n",
       "        vertical-align: middle;\n",
       "    }\n",
       "\n",
       "    .dataframe tbody tr th {\n",
       "        vertical-align: top;\n",
       "    }\n",
       "\n",
       "    .dataframe thead th {\n",
       "        text-align: right;\n",
       "    }\n",
       "</style>\n",
       "<table border=\"1\" class=\"dataframe\">\n",
       "  <thead>\n",
       "    <tr style=\"text-align: right;\">\n",
       "      <th></th>\n",
       "      <th>year</th>\n",
       "    </tr>\n",
       "  </thead>\n",
       "  <tbody>\n",
       "    <tr>\n",
       "      <th>count</th>\n",
       "      <td>110.0</td>\n",
       "    </tr>\n",
       "    <tr>\n",
       "      <th>mean</th>\n",
       "      <td>2011.0</td>\n",
       "    </tr>\n",
       "    <tr>\n",
       "      <th>std</th>\n",
       "      <td>0.0</td>\n",
       "    </tr>\n",
       "    <tr>\n",
       "      <th>min</th>\n",
       "      <td>2011.0</td>\n",
       "    </tr>\n",
       "    <tr>\n",
       "      <th>25%</th>\n",
       "      <td>2011.0</td>\n",
       "    </tr>\n",
       "    <tr>\n",
       "      <th>50%</th>\n",
       "      <td>2011.0</td>\n",
       "    </tr>\n",
       "    <tr>\n",
       "      <th>75%</th>\n",
       "      <td>2011.0</td>\n",
       "    </tr>\n",
       "    <tr>\n",
       "      <th>max</th>\n",
       "      <td>2011.0</td>\n",
       "    </tr>\n",
       "  </tbody>\n",
       "</table>\n",
       "</div>"
      ],
      "text/plain": [
       "         year\n",
       "count   110.0\n",
       "mean   2011.0\n",
       "std       0.0\n",
       "min    2011.0\n",
       "25%    2011.0\n",
       "50%    2011.0\n",
       "75%    2011.0\n",
       "max    2011.0"
      ]
     },
     "execution_count": 20,
     "metadata": {},
     "output_type": "execute_result"
    }
   ],
   "source": [
    "survey_data.describe()"
   ]
  },
  {
   "cell_type": "markdown",
   "id": "00bb75b4",
   "metadata": {},
   "source": [
    "## DataFrames"
   ]
  },
  {
   "cell_type": "code",
   "execution_count": 21,
   "id": "ab7857db",
   "metadata": {},
   "outputs": [],
   "source": [
    "import numpy as np"
   ]
  },
  {
   "cell_type": "code",
   "execution_count": 22,
   "id": "38a11f06",
   "metadata": {},
   "outputs": [
    {
     "data": {
      "text/plain": [
       "array([[-0.86932134,  0.91805327,  1.68121834,  0.81023853,  0.88585907],\n",
       "       [-0.83361339,  1.78897265, -0.40347351,  0.27650256,  0.45738275],\n",
       "       [ 0.08656204, -1.22373494, -0.97710641,  0.34551598, -0.29425763],\n",
       "       [-1.11847923, -0.40405506,  0.40560504, -1.09571401,  0.08402823],\n",
       "       [ 0.08609293,  0.58340906,  0.31465384, -1.17816156, -0.35970832]])"
      ]
     },
     "execution_count": 22,
     "metadata": {},
     "output_type": "execute_result"
    }
   ],
   "source": [
    "a= np.random.randn(5,5)\n",
    "# print(a)\n",
    "a"
   ]
  },
  {
   "cell_type": "code",
   "execution_count": 23,
   "id": "e39510fc",
   "metadata": {},
   "outputs": [
    {
     "data": {
      "text/html": [
       "<div>\n",
       "<style scoped>\n",
       "    .dataframe tbody tr th:only-of-type {\n",
       "        vertical-align: middle;\n",
       "    }\n",
       "\n",
       "    .dataframe tbody tr th {\n",
       "        vertical-align: top;\n",
       "    }\n",
       "\n",
       "    .dataframe thead th {\n",
       "        text-align: right;\n",
       "    }\n",
       "</style>\n",
       "<table border=\"1\" class=\"dataframe\">\n",
       "  <thead>\n",
       "    <tr style=\"text-align: right;\">\n",
       "      <th></th>\n",
       "      <th>a</th>\n",
       "      <th>b</th>\n",
       "      <th>c</th>\n",
       "      <th>d</th>\n",
       "      <th>e</th>\n",
       "    </tr>\n",
       "  </thead>\n",
       "  <tbody>\n",
       "    <tr>\n",
       "      <th>0</th>\n",
       "      <td>-0.869321</td>\n",
       "      <td>0.918053</td>\n",
       "      <td>1.681218</td>\n",
       "      <td>0.810239</td>\n",
       "      <td>0.885859</td>\n",
       "    </tr>\n",
       "    <tr>\n",
       "      <th>1</th>\n",
       "      <td>-0.833613</td>\n",
       "      <td>1.788973</td>\n",
       "      <td>-0.403474</td>\n",
       "      <td>0.276503</td>\n",
       "      <td>0.457383</td>\n",
       "    </tr>\n",
       "    <tr>\n",
       "      <th>2</th>\n",
       "      <td>0.086562</td>\n",
       "      <td>-1.223735</td>\n",
       "      <td>-0.977106</td>\n",
       "      <td>0.345516</td>\n",
       "      <td>-0.294258</td>\n",
       "    </tr>\n",
       "    <tr>\n",
       "      <th>3</th>\n",
       "      <td>-1.118479</td>\n",
       "      <td>-0.404055</td>\n",
       "      <td>0.405605</td>\n",
       "      <td>-1.095714</td>\n",
       "      <td>0.084028</td>\n",
       "    </tr>\n",
       "    <tr>\n",
       "      <th>4</th>\n",
       "      <td>0.086093</td>\n",
       "      <td>0.583409</td>\n",
       "      <td>0.314654</td>\n",
       "      <td>-1.178162</td>\n",
       "      <td>-0.359708</td>\n",
       "    </tr>\n",
       "  </tbody>\n",
       "</table>\n",
       "</div>"
      ],
      "text/plain": [
       "          a         b         c         d         e\n",
       "0 -0.869321  0.918053  1.681218  0.810239  0.885859\n",
       "1 -0.833613  1.788973 -0.403474  0.276503  0.457383\n",
       "2  0.086562 -1.223735 -0.977106  0.345516 -0.294258\n",
       "3 -1.118479 -0.404055  0.405605 -1.095714  0.084028\n",
       "4  0.086093  0.583409  0.314654 -1.178162 -0.359708"
      ]
     },
     "execution_count": 23,
     "metadata": {},
     "output_type": "execute_result"
    }
   ],
   "source": [
    "df=pd.DataFrame(a,columns=['a','b','c','d','e'])\n",
    "# print(df)\n",
    "df"
   ]
  },
  {
   "cell_type": "code",
   "execution_count": 24,
   "id": "75e42ad6",
   "metadata": {},
   "outputs": [
    {
     "data": {
      "text/html": [
       "<div>\n",
       "<style scoped>\n",
       "    .dataframe tbody tr th:only-of-type {\n",
       "        vertical-align: middle;\n",
       "    }\n",
       "\n",
       "    .dataframe tbody tr th {\n",
       "        vertical-align: top;\n",
       "    }\n",
       "\n",
       "    .dataframe thead th {\n",
       "        text-align: right;\n",
       "    }\n",
       "</style>\n",
       "<table border=\"1\" class=\"dataframe\">\n",
       "  <thead>\n",
       "    <tr style=\"text-align: right;\">\n",
       "      <th></th>\n",
       "      <th>Startup Name</th>\n",
       "      <th>City</th>\n",
       "      <th>Industry</th>\n",
       "      <th>Funding Raised (in millions)</th>\n",
       "      <th>Number of Employees</th>\n",
       "    </tr>\n",
       "  </thead>\n",
       "  <tbody>\n",
       "    <tr>\n",
       "      <th>0</th>\n",
       "      <td>Acme Corp</td>\n",
       "      <td>San Francisco</td>\n",
       "      <td>Technology</td>\n",
       "      <td>10.5</td>\n",
       "      <td>50</td>\n",
       "    </tr>\n",
       "    <tr>\n",
       "      <th>1</th>\n",
       "      <td>Blue Sky</td>\n",
       "      <td>New York</td>\n",
       "      <td>E-commerce</td>\n",
       "      <td>5.2</td>\n",
       "      <td>20</td>\n",
       "    </tr>\n",
       "    <tr>\n",
       "      <th>2</th>\n",
       "      <td>Green Leaf</td>\n",
       "      <td>London</td>\n",
       "      <td>Health</td>\n",
       "      <td>3.7</td>\n",
       "      <td>10</td>\n",
       "    </tr>\n",
       "    <tr>\n",
       "      <th>3</th>\n",
       "      <td>Red Rocket</td>\n",
       "      <td>Berlin</td>\n",
       "      <td>Software</td>\n",
       "      <td>8.9</td>\n",
       "      <td>30</td>\n",
       "    </tr>\n",
       "    <tr>\n",
       "      <th>4</th>\n",
       "      <td>Yellow Brick</td>\n",
       "      <td>Tokyo</td>\n",
       "      <td>Entertainment</td>\n",
       "      <td>2.1</td>\n",
       "      <td>15</td>\n",
       "    </tr>\n",
       "  </tbody>\n",
       "</table>\n",
       "</div>"
      ],
      "text/plain": [
       "   Startup Name           City       Industry  Funding Raised (in millions)  \\\n",
       "0     Acme Corp  San Francisco     Technology                          10.5   \n",
       "1      Blue Sky       New York     E-commerce                           5.2   \n",
       "2    Green Leaf         London         Health                           3.7   \n",
       "3    Red Rocket         Berlin       Software                           8.9   \n",
       "4  Yellow Brick          Tokyo  Entertainment                           2.1   \n",
       "\n",
       "   Number of Employees  \n",
       "0                   50  \n",
       "1                   20  \n",
       "2                   10  \n",
       "3                   30  \n",
       "4                   15  "
      ]
     },
     "execution_count": 24,
     "metadata": {},
     "output_type": "execute_result"
    }
   ],
   "source": [
    "df1=pd.read_csv('./data/startups.csv')\n",
    "# print(df1)\n",
    "df1"
   ]
  },
  {
   "cell_type": "code",
   "execution_count": 25,
   "id": "60e20940",
   "metadata": {},
   "outputs": [
    {
     "data": {
      "text/plain": [
       "25"
      ]
     },
     "execution_count": 25,
     "metadata": {},
     "output_type": "execute_result"
    }
   ],
   "source": [
    "df1.size"
   ]
  },
  {
   "cell_type": "code",
   "execution_count": 26,
   "id": "68fc531e",
   "metadata": {},
   "outputs": [
    {
     "data": {
      "text/plain": [
       "(5, 5)"
      ]
     },
     "execution_count": 26,
     "metadata": {},
     "output_type": "execute_result"
    }
   ],
   "source": [
    "df1.shape"
   ]
  },
  {
   "cell_type": "code",
   "execution_count": null,
   "id": "5bdffda7",
   "metadata": {},
   "outputs": [],
   "source": []
  }
 ],
 "metadata": {
  "kernelspec": {
   "display_name": "Python 3 (ipykernel)",
   "language": "python",
   "name": "python3"
  },
  "language_info": {
   "codemirror_mode": {
    "name": "ipython",
    "version": 3
   },
   "file_extension": ".py",
   "mimetype": "text/x-python",
   "name": "python",
   "nbconvert_exporter": "python",
   "pygments_lexer": "ipython3",
   "version": "3.11.2"
  }
 },
 "nbformat": 4,
 "nbformat_minor": 5
}
