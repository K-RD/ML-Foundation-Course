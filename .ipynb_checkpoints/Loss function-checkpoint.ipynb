{
 "cells": [
  {
   "cell_type": "markdown",
   "id": "f695ac53",
   "metadata": {},
   "source": [
    "## Mean Squared Error --> MSE"
   ]
  },
  {
   "cell_type": "code",
   "execution_count": 12,
   "id": "706467a4",
   "metadata": {},
   "outputs": [],
   "source": [
    "a=[1,3,5,2,7,2,8,3,6,2,8,4]\n",
    "b=[3,5,2,6,7,8,3,5,2,5,2,4]"
   ]
  },
  {
   "cell_type": "code",
   "execution_count": 13,
   "id": "1fa1bfd8",
   "metadata": {},
   "outputs": [
    {
     "name": "stdout",
     "output_type": "stream",
     "text": [
      "The Mean Square Error of both is 13.25\n"
     ]
    }
   ],
   "source": [
    "summ=0\n",
    "for i in range(len(a)):\n",
    "    summ+=(a[i]-b[i])**2\n",
    "    \n",
    "print(\"The Mean Square Error of both is\",summ/len(a))"
   ]
  },
  {
   "cell_type": "markdown",
   "id": "70932c24",
   "metadata": {},
   "source": [
    "## Mean Absolute Error --> MAE"
   ]
  },
  {
   "cell_type": "code",
   "execution_count": 14,
   "id": "0a99a3c8",
   "metadata": {},
   "outputs": [
    {
     "name": "stdout",
     "output_type": "stream",
     "text": [
      "The Mean Absolute Error of both is -0.08333333333333333\n"
     ]
    }
   ],
   "source": [
    "summ1=0\n",
    "for i in range(len(a)):\n",
    "    summ1+=(a[i]-b[i])\n",
    "    \n",
    "print(\"The Mean Absolute Error of both is\",summ1/len(a))"
   ]
  },
  {
   "cell_type": "markdown",
   "id": "457a35cc",
   "metadata": {},
   "source": [
    "## Find correlation between two arrays"
   ]
  },
  {
   "cell_type": "code",
   "execution_count": null,
   "id": "4198bc3b",
   "metadata": {},
   "outputs": [],
   "source": []
  }
 ],
 "metadata": {
  "kernelspec": {
   "display_name": "Python 3 (ipykernel)",
   "language": "python",
   "name": "python3"
  },
  "language_info": {
   "codemirror_mode": {
    "name": "ipython",
    "version": 3
   },
   "file_extension": ".py",
   "mimetype": "text/x-python",
   "name": "python",
   "nbconvert_exporter": "python",
   "pygments_lexer": "ipython3",
   "version": "3.11.2"
  }
 },
 "nbformat": 4,
 "nbformat_minor": 5
}
