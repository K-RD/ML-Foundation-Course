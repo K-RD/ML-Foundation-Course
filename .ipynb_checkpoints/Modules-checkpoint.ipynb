{
 "cells": [
  {
   "cell_type": "markdown",
   "id": "5443f2e9",
   "metadata": {},
   "source": [
    "## Random Module"
   ]
  },
  {
   "cell_type": "code",
   "execution_count": 2,
   "id": "33c01bd3",
   "metadata": {},
   "outputs": [],
   "source": [
    "import random"
   ]
  },
  {
   "cell_type": "code",
   "execution_count": 3,
   "id": "98f2ab07",
   "metadata": {},
   "outputs": [
    {
     "data": {
      "text/plain": [
       "14"
      ]
     },
     "execution_count": 3,
     "metadata": {},
     "output_type": "execute_result"
    }
   ],
   "source": [
    "random.randrange(10,20)"
   ]
  },
  {
   "cell_type": "code",
   "execution_count": 16,
   "id": "b0349633",
   "metadata": {},
   "outputs": [
    {
     "data": {
      "text/plain": [
       "13"
      ]
     },
     "execution_count": 16,
     "metadata": {},
     "output_type": "execute_result"
    }
   ],
   "source": [
    "random.randint(10,20)"
   ]
  },
  {
   "cell_type": "markdown",
   "id": "4f678938",
   "metadata": {},
   "source": [
    "## OS Module"
   ]
  },
  {
   "cell_type": "code",
   "execution_count": 17,
   "id": "05a9a304",
   "metadata": {},
   "outputs": [],
   "source": [
    "import os"
   ]
  },
  {
   "cell_type": "code",
   "execution_count": 18,
   "id": "5bfc1067",
   "metadata": {},
   "outputs": [
    {
     "data": {
      "text/plain": [
       "'/Users/robindkumar/Developer/python/ML-Foundation-Course'"
      ]
     },
     "execution_count": 18,
     "metadata": {},
     "output_type": "execute_result"
    }
   ],
   "source": [
    "os.getcwd()"
   ]
  },
  {
   "cell_type": "code",
   "execution_count": 19,
   "id": "3832e920",
   "metadata": {},
   "outputs": [
    {
     "data": {
      "text/plain": [
       "b'/Users/robindkumar/Developer/python/ML-Foundation-Course'"
      ]
     },
     "execution_count": 19,
     "metadata": {},
     "output_type": "execute_result"
    }
   ],
   "source": [
    "os.getcwdb()"
   ]
  },
  {
   "cell_type": "code",
   "execution_count": 21,
   "id": "a3477775",
   "metadata": {},
   "outputs": [
    {
     "data": {
      "text/plain": [
       "['Day 3.ipynb',\n",
       " 'Day 1.ipynb',\n",
       " 'Assignments',\n",
       " '.DS_Store',\n",
       " 'Modules.ipynb',\n",
       " 'Func.ipynb',\n",
       " 'Day 2.ipynb',\n",
       " 'Day 4.ipynb',\n",
       " 'README.md',\n",
       " 'Matplot.ipynb',\n",
       " '.ipynb_checkpoints',\n",
       " '.git',\n",
       " 'scrapping.ipynb']"
      ]
     },
     "execution_count": 21,
     "metadata": {},
     "output_type": "execute_result"
    }
   ],
   "source": [
    "os.listdir()"
   ]
  },
  {
   "cell_type": "code",
   "execution_count": 8,
   "id": "c9090727",
   "metadata": {},
   "outputs": [
    {
     "data": {
      "text/plain": [
       "'posix'"
      ]
     },
     "execution_count": 8,
     "metadata": {},
     "output_type": "execute_result"
    }
   ],
   "source": [
    "os.name"
   ]
  },
  {
   "cell_type": "markdown",
   "id": "a081dd57",
   "metadata": {},
   "source": [
    "## RE Module (Regular expression)"
   ]
  },
  {
   "cell_type": "code",
   "execution_count": 22,
   "id": "70cd147b",
   "metadata": {},
   "outputs": [],
   "source": [
    "import re"
   ]
  },
  {
   "cell_type": "code",
   "execution_count": 23,
   "id": "aefb63e4",
   "metadata": {},
   "outputs": [
    {
     "name": "stdout",
     "output_type": "stream",
     "text": [
      "<re.Match object; span=(7, 9), match='ow'>\n",
      "Start match position is 7\n",
      "End match position is 9\n"
     ]
    }
   ],
   "source": [
    "a=\"hello how are you dear students.\"\n",
    "\n",
    "h=re.search('ow',a)\n",
    "print(h)\n",
    "print(f'Start match position is {h.start()}')\n",
    "print(f'End match position is {h.end()}')"
   ]
  },
  {
   "cell_type": "code",
   "execution_count": 25,
   "id": "cdee84a9",
   "metadata": {},
   "outputs": [
    {
     "data": {
      "text/plain": [
       "<re.Match object; span=(6, 9), match='how'>"
      ]
     },
     "execution_count": 25,
     "metadata": {},
     "output_type": "execute_result"
    }
   ],
   "source": [
    "re.search('h\\ww',a)"
   ]
  },
  {
   "cell_type": "code",
   "execution_count": 26,
   "id": "589ae2bf",
   "metadata": {},
   "outputs": [],
   "source": [
    "strRandom=\"the color of the colour box is of different colour which is kept in the color house in colour hall.\""
   ]
  },
  {
   "cell_type": "code",
   "execution_count": 31,
   "id": "0a2a7ced",
   "metadata": {},
   "outputs": [
    {
     "data": {
      "text/plain": [
       "['color', 'colour', 'colour', 'color', 'colour']"
      ]
     },
     "execution_count": 31,
     "metadata": {},
     "output_type": "execute_result"
    }
   ],
   "source": [
    "re.findall('colou?r',strRandom) # used to find both color or colour "
   ]
  },
  {
   "cell_type": "markdown",
   "id": "03adf541",
   "metadata": {},
   "source": [
    "## Time Module"
   ]
  },
  {
   "cell_type": "code",
   "execution_count": 12,
   "id": "475530b9",
   "metadata": {},
   "outputs": [],
   "source": [
    "import time"
   ]
  },
  {
   "cell_type": "code",
   "execution_count": 13,
   "id": "1c1d8a1a",
   "metadata": {},
   "outputs": [
    {
     "name": "stdout",
     "output_type": "stream",
     "text": [
      "time taken is 0.01989\n"
     ]
    }
   ],
   "source": [
    "start=time.time()\n",
    "\n",
    "for i in range(100000):\n",
    "    i+=i\n",
    "end=time.time()\n",
    "tt=end-start\n",
    "print('time taken is %.5f'%tt)"
   ]
  },
  {
   "cell_type": "markdown",
   "id": "e54e99c1",
   "metadata": {},
   "source": [
    "## pyautogui"
   ]
  },
  {
   "cell_type": "markdown",
   "id": "bf525682",
   "metadata": {},
   "source": [
    "## openpyxl"
   ]
  },
  {
   "cell_type": "code",
   "execution_count": null,
   "id": "6e16282a",
   "metadata": {},
   "outputs": [],
   "source": []
  }
 ],
 "metadata": {
  "kernelspec": {
   "display_name": "Python 3 (ipykernel)",
   "language": "python",
   "name": "python3"
  },
  "language_info": {
   "codemirror_mode": {
    "name": "ipython",
    "version": 3
   },
   "file_extension": ".py",
   "mimetype": "text/x-python",
   "name": "python",
   "nbconvert_exporter": "python",
   "pygments_lexer": "ipython3",
   "version": "3.11.2"
  }
 },
 "nbformat": 4,
 "nbformat_minor": 5
}
