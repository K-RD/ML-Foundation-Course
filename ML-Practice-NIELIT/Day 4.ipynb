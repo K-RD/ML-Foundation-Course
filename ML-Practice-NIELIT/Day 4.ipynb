{
 "cells": [
  {
   "cell_type": "markdown",
   "id": "2fa558a1",
   "metadata": {},
   "source": [
    "## 1. WAP to print characters at odd & even index of a given string to two different strings"
   ]
  },
  {
   "cell_type": "code",
   "execution_count": null,
   "id": "e2957fdf",
   "metadata": {},
   "outputs": [],
   "source": [
    "org=\"Hello\"\n",
    "oddStr=''\n",
    "evenStr=''\n",
    "for i in range(len(org)):\n",
    "    if i%2==0:\n",
    "        evenStr+=org[i]\n",
    "    else:\n",
    "        oddStr+=org[i]\n",
    "print(\"String at odd index :\",oddStr)\n",
    "print(\"String at even index :\",evenStr)"
   ]
  },
  {
   "cell_type": "markdown",
   "id": "dc473229",
   "metadata": {},
   "source": [
    "## 2. WAP to remove the first n character from the given string."
   ]
  },
  {
   "cell_type": "code",
   "execution_count": 1,
   "id": "ca4f0cf1",
   "metadata": {},
   "outputs": [
    {
     "name": "stdout",
     "output_type": "stream",
     "text": [
      "Enter no less than 5 to remove :: 3\n",
      "String after removing 3 character from hello is : lo\n"
     ]
    }
   ],
   "source": [
    "orgStr=\"hello\"\n",
    "newStr=''\n",
    "n=int(input(f\"Enter no less than {len(orgStr)} to remove :: \"))\n",
    "\n",
    "for i in range(n,len(orgStr)):\n",
    "    newStr+=orgStr[i]\n",
    "print(\"String after removing\",n,\"character from\",orgStr,\"is :\",newStr)"
   ]
  },
  {
   "cell_type": "markdown",
   "id": "5f748709",
   "metadata": {},
   "source": [
    "## 3. WAP to return the count of substring from a given string."
   ]
  },
  {
   "cell_type": "code",
   "execution_count": 3,
   "id": "44c19fc5",
   "metadata": {},
   "outputs": [
    {
     "name": "stdout",
     "output_type": "stream",
     "text": [
      "no of substring in \"hello how are you buddy\" is 5\n"
     ]
    }
   ],
   "source": [
    "str=\"hello How are you buddy\"\n",
    "newStrr=str.split()\n",
    "print(f\"no of substring in \\\"{str}\\\" is {len(newStrr)}\")"
   ]
  },
  {
   "cell_type": "markdown",
   "id": "0e9cd51c",
   "metadata": {},
   "source": [
    "## 4. WAP to create a string made up of first, middle & last char of given string."
   ]
  },
  {
   "cell_type": "code",
   "execution_count": 4,
   "id": "ca3ecd5a",
   "metadata": {},
   "outputs": [
    {
     "name": "stdout",
     "output_type": "stream",
     "text": [
      "new string is Ata\n"
     ]
    }
   ],
   "source": [
    "str=\"Aditya\"\n",
    "newStrA=str[0]+str[(len(str)//2)]+str[-1]\n",
    "print(f\"new string is {newStrA}\")"
   ]
  },
  {
   "cell_type": "markdown",
   "id": "df150b38",
   "metadata": {},
   "source": [
    "## 5. WAP to arrange a given string in such a way that all lowercase char should come first."
   ]
  },
  {
   "cell_type": "code",
   "execution_count": 18,
   "id": "01a21e77",
   "metadata": {},
   "outputs": [
    {
     "name": "stdout",
     "output_type": "stream",
     "text": [
      "hello\tare\tyou\tbuddy\t['How']\n"
     ]
    }
   ],
   "source": [
    "str=\"hello How are you buddy\"\n",
    "listStr=str.split()\n",
    "upperList=[]\n",
    "for i in listStr:\n",
    "    if(i[0].islower()==True):\n",
    "        print(i,end=\"\\t\")\n",
    "    else:\n",
    "        upperList.append(i)\n",
    "print(upperList)"
   ]
  },
  {
   "cell_type": "code",
   "execution_count": null,
   "id": "bb7f5144",
   "metadata": {},
   "outputs": [],
   "source": []
  }
 ],
 "metadata": {
  "kernelspec": {
   "display_name": "Python 3 (ipykernel)",
   "language": "python",
   "name": "python3"
  },
  "language_info": {
   "codemirror_mode": {
    "name": "ipython",
    "version": 3
   },
   "file_extension": ".py",
   "mimetype": "text/x-python",
   "name": "python",
   "nbconvert_exporter": "python",
   "pygments_lexer": "ipython3",
   "version": "3.11.2"
  }
 },
 "nbformat": 4,
 "nbformat_minor": 5
}
