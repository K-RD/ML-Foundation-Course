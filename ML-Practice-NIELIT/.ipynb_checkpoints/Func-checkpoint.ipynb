{
 "cells": [
  {
   "cell_type": "markdown",
   "id": "f667a188",
   "metadata": {},
   "source": [
    "## Function"
   ]
  },
  {
   "cell_type": "code",
   "execution_count": 27,
   "id": "0fba0e30",
   "metadata": {},
   "outputs": [],
   "source": [
    "a=[1,2,3,4]\n"
   ]
  },
  {
   "cell_type": "code",
   "execution_count": 28,
   "id": "6e1daf74",
   "metadata": {},
   "outputs": [],
   "source": [
    "def square(num):\n",
    "    return num*num"
   ]
  },
  {
   "cell_type": "code",
   "execution_count": 29,
   "id": "c9c9763a",
   "metadata": {},
   "outputs": [],
   "source": [
    "n=0"
   ]
  },
  {
   "cell_type": "code",
   "execution_count": 30,
   "id": "a5fd0e97",
   "metadata": {},
   "outputs": [],
   "source": [
    "# n+=map(square,a) # throws an error"
   ]
  },
  {
   "cell_type": "code",
   "execution_count": 36,
   "id": "2b8594a7",
   "metadata": {},
   "outputs": [
    {
     "data": {
      "text/plain": [
       "[1, 4, 9, 16]"
      ]
     },
     "execution_count": 36,
     "metadata": {},
     "output_type": "execute_result"
    }
   ],
   "source": [
    "list(map(square,a))"
   ]
  },
  {
   "cell_type": "markdown",
   "id": "1bf27841",
   "metadata": {},
   "source": [
    "### Variable Argument Function"
   ]
  },
  {
   "cell_type": "code",
   "execution_count": 41,
   "id": "cb16c10d",
   "metadata": {},
   "outputs": [],
   "source": [
    "def summ(*num):\n",
    "    summ=0\n",
    "    for i in num:\n",
    "        summ+=i\n",
    "        \n",
    "    return summ"
   ]
  },
  {
   "cell_type": "code",
   "execution_count": 42,
   "id": "9edac917",
   "metadata": {},
   "outputs": [
    {
     "data": {
      "text/plain": [
       "6"
      ]
     },
     "execution_count": 42,
     "metadata": {},
     "output_type": "execute_result"
    }
   ],
   "source": [
    "sum(1,2,3)"
   ]
  },
  {
   "cell_type": "markdown",
   "id": "d0237a9e",
   "metadata": {},
   "source": [
    "### keyword Argument Function"
   ]
  },
  {
   "cell_type": "code",
   "execution_count": 52,
   "id": "8834b9e0",
   "metadata": {},
   "outputs": [],
   "source": [
    "def dictionary(**val):\n",
    "    print(val)"
   ]
  },
  {
   "cell_type": "code",
   "execution_count": 53,
   "id": "27d2cdf2",
   "metadata": {},
   "outputs": [
    {
     "name": "stdout",
     "output_type": "stream",
     "text": [
      "{'orange': 50, 'banana': 40, 'apple': 20}\n"
     ]
    }
   ],
   "source": [
    "dictionary(orange=50,banana=40,apple=20)"
   ]
  },
  {
   "cell_type": "markdown",
   "id": "64159e3e",
   "metadata": {},
   "source": [
    "## Lambda Expression"
   ]
  },
  {
   "cell_type": "code",
   "execution_count": 32,
   "id": "44bf5225",
   "metadata": {},
   "outputs": [],
   "source": [
    "le=lambda x:x*x"
   ]
  },
  {
   "cell_type": "code",
   "execution_count": 33,
   "id": "9418121c",
   "metadata": {},
   "outputs": [
    {
     "data": {
      "text/plain": [
       "16"
      ]
     },
     "execution_count": 33,
     "metadata": {},
     "output_type": "execute_result"
    }
   ],
   "source": [
    "le(4)"
   ]
  },
  {
   "cell_type": "code",
   "execution_count": 34,
   "id": "91c8b5a9",
   "metadata": {},
   "outputs": [],
   "source": [
    "le2=lambda x,y:x*y"
   ]
  },
  {
   "cell_type": "code",
   "execution_count": 54,
   "id": "40f99e71",
   "metadata": {},
   "outputs": [
    {
     "data": {
      "text/plain": [
       "12"
      ]
     },
     "execution_count": 54,
     "metadata": {},
     "output_type": "execute_result"
    }
   ],
   "source": [
    "le2(3,4)"
   ]
  },
  {
   "cell_type": "markdown",
   "id": "109a17b0",
   "metadata": {},
   "source": []
  }
 ],
 "metadata": {
  "kernelspec": {
   "display_name": "Python 3 (ipykernel)",
   "language": "python",
   "name": "python3"
  },
  "language_info": {
   "codemirror_mode": {
    "name": "ipython",
    "version": 3
   },
   "file_extension": ".py",
   "mimetype": "text/x-python",
   "name": "python",
   "nbconvert_exporter": "python",
   "pygments_lexer": "ipython3",
   "version": "3.11.2"
  }
 },
 "nbformat": 4,
 "nbformat_minor": 5
}
