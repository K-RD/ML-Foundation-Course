{
 "cells": [
  {
   "cell_type": "markdown",
   "id": "d05dc968",
   "metadata": {},
   "source": [
    "## 1. Program to add two numbers."
   ]
  },
  {
   "cell_type": "code",
   "execution_count": 1,
   "id": "8b295202",
   "metadata": {},
   "outputs": [
    {
     "name": "stdout",
     "output_type": "stream",
     "text": [
      "Enter first number:: 12\n",
      "Enter second number:: 13\n",
      "\n",
      "sum of 12 and 13 is 25\n"
     ]
    }
   ],
   "source": [
    "num1=int(input(\"Enter first number:: \"))\n",
    "num2=int(input(\"Enter second number:: \"))\n",
    "summ=num1+num2\n",
    "print(\"\\nsum of\",num1,\"and\",num2,\"is\",summ)"
   ]
  },
  {
   "cell_type": "markdown",
   "id": "fc9bbe90",
   "metadata": {},
   "source": [
    "## 2. Program to find greater number between any two numbers."
   ]
  },
  {
   "cell_type": "code",
   "execution_count": 2,
   "id": "e4089d39",
   "metadata": {},
   "outputs": [
    {
     "name": "stdout",
     "output_type": "stream",
     "text": [
      "Enter first number:: 12\n",
      "Enter second number:: 13\n",
      "13 is greater than 12\n"
     ]
    }
   ],
   "source": [
    "first=int(input(\"Enter first number:: \"))\n",
    "second=int(input(\"Enter second number:: \"))\n",
    "if first>second:\n",
    "    print(first,\"is greater than\",second)\n",
    "else:\n",
    "    print(second,\"is greater than\",first)"
   ]
  },
  {
   "cell_type": "markdown",
   "id": "0694e956",
   "metadata": {},
   "source": [
    "## 3. Program to find Simple Interest."
   ]
  },
  {
   "cell_type": "code",
   "execution_count": 3,
   "id": "7134d590",
   "metadata": {},
   "outputs": [
    {
     "name": "stdout",
     "output_type": "stream",
     "text": [
      "Enter principal amount:: 1200\n",
      "Enter rate percentage:: 3\n",
      "Enter time in years:: 5\n",
      "\n",
      "Simple Interest is 180.0\n",
      "\n",
      "Amount is 1380.0\n"
     ]
    }
   ],
   "source": [
    "ppl=int(input(\"Enter principal amount:: \"))\n",
    "rate=int(input(\"Enter rate percentage:: \"))\n",
    "time=int(input(\"Enter time in years:: \"))\n",
    "si=(ppl*rate*time)/100\n",
    "print(\"\\nSimple Interest is\",si)\n",
    "print(\"\\nAmount is\",ppl+si)"
   ]
  },
  {
   "cell_type": "markdown",
   "id": "03b87270",
   "metadata": {},
   "source": [
    "## 4. Program to find Compound Interest."
   ]
  },
  {
   "cell_type": "code",
   "execution_count": 4,
   "id": "7a6ce68b",
   "metadata": {},
   "outputs": [
    {
     "name": "stdout",
     "output_type": "stream",
     "text": [
      "Enter principal amount:: 1000\n",
      "Enter rate percentage:: 5\n",
      "Enter time in years:: 3\n",
      "\n",
      "Compound Interest is 157.62500000000023\n",
      "\n",
      "Amount is 1157.6250000000002\n"
     ]
    }
   ],
   "source": [
    "p=int(input(\"Enter principal amount:: \"))\n",
    "r=int(input(\"Enter rate percentage:: \"))\n",
    "t=int(input(\"Enter time in years:: \"))\n",
    "amount=p*(1+(r/100))**t\n",
    "print(\"\\nCompound Interest is\",amount-p)\n",
    "print(\"\\nAmount is\",amount)"
   ]
  },
  {
   "cell_type": "markdown",
   "id": "149d1da3",
   "metadata": {},
   "source": [
    "## 5. Program to check for even or odd number."
   ]
  },
  {
   "cell_type": "code",
   "execution_count": 5,
   "id": "d3d10538",
   "metadata": {},
   "outputs": [
    {
     "name": "stdout",
     "output_type": "stream",
     "text": [
      "Enter any number:: 23\n",
      "23 is odd number\n"
     ]
    }
   ],
   "source": [
    "number=int(input(\"Enter any number:: \"))\n",
    "if number%2==0:\n",
    "    print(number,\"is even number\")\n",
    "else:\n",
    "    print(number,\"is odd number\")"
   ]
  }
 ],
 "metadata": {
  "kernelspec": {
   "display_name": "Python 3 (ipykernel)",
   "language": "python",
   "name": "python3"
  },
  "language_info": {
   "codemirror_mode": {
    "name": "ipython",
    "version": 3
   },
   "file_extension": ".py",
   "mimetype": "text/x-python",
   "name": "python",
   "nbconvert_exporter": "python",
   "pygments_lexer": "ipython3",
   "version": "3.9.6"
  }
 },
 "nbformat": 4,
 "nbformat_minor": 5
}
