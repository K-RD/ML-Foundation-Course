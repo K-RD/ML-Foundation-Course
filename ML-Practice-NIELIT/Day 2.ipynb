{
 "cells": [
  {
   "cell_type": "markdown",
   "id": "8a2d86a4",
   "metadata": {},
   "source": [
    "## String concatenation"
   ]
  },
  {
   "cell_type": "code",
   "execution_count": 6,
   "id": "184674a7",
   "metadata": {},
   "outputs": [
    {
     "name": "stdout",
     "output_type": "stream",
     "text": [
      "Robind kumar\n"
     ]
    }
   ],
   "source": [
    "a=\"Robind \"\n",
    "b=\"kumar\"\n",
    "name=a+b\n",
    "print(name)"
   ]
  },
  {
   "cell_type": "markdown",
   "id": "398f1b36",
   "metadata": {},
   "source": [
    "## String Indexing"
   ]
  },
  {
   "cell_type": "code",
   "execution_count": 7,
   "id": "c0bf8ce9",
   "metadata": {},
   "outputs": [
    {
     "data": {
      "text/plain": [
       "7"
      ]
     },
     "execution_count": 7,
     "metadata": {},
     "output_type": "execute_result"
    }
   ],
   "source": [
    "len(a)"
   ]
  },
  {
   "cell_type": "code",
   "execution_count": 8,
   "id": "7d1daabb",
   "metadata": {},
   "outputs": [
    {
     "data": {
      "text/plain": [
       "'R'"
      ]
     },
     "execution_count": 8,
     "metadata": {},
     "output_type": "execute_result"
    }
   ],
   "source": [
    "a[0]"
   ]
  },
  {
   "cell_type": "code",
   "execution_count": 9,
   "id": "d54b7cb6",
   "metadata": {},
   "outputs": [
    {
     "data": {
      "text/plain": [
       "'i'"
      ]
     },
     "execution_count": 9,
     "metadata": {},
     "output_type": "execute_result"
    }
   ],
   "source": [
    "a[3]"
   ]
  },
  {
   "cell_type": "code",
   "execution_count": 11,
   "id": "e727d1fa",
   "metadata": {},
   "outputs": [
    {
     "data": {
      "text/plain": [
       "'r'"
      ]
     },
     "execution_count": 11,
     "metadata": {},
     "output_type": "execute_result"
    }
   ],
   "source": [
    "name[-1]"
   ]
  },
  {
   "cell_type": "code",
   "execution_count": 12,
   "id": "b6dfdef5",
   "metadata": {},
   "outputs": [
    {
     "data": {
      "text/plain": [
       "'Robind kumar'"
      ]
     },
     "execution_count": 12,
     "metadata": {},
     "output_type": "execute_result"
    }
   ],
   "source": [
    "name[:]"
   ]
  },
  {
   "cell_type": "code",
   "execution_count": 13,
   "id": "b847c129",
   "metadata": {},
   "outputs": [
    {
     "data": {
      "text/plain": [
       "'Robind kumar'"
      ]
     },
     "execution_count": 13,
     "metadata": {},
     "output_type": "execute_result"
    }
   ],
   "source": [
    "name[::]"
   ]
  },
  {
   "cell_type": "code",
   "execution_count": 14,
   "id": "451dbc2c",
   "metadata": {},
   "outputs": [
    {
     "data": {
      "text/plain": [
       "'Rob'"
      ]
     },
     "execution_count": 14,
     "metadata": {},
     "output_type": "execute_result"
    }
   ],
   "source": [
    "name[:3]"
   ]
  },
  {
   "cell_type": "code",
   "execution_count": 15,
   "id": "4f75ca40",
   "metadata": {},
   "outputs": [
    {
     "data": {
      "text/plain": [
       "'Robind kuma'"
      ]
     },
     "execution_count": 15,
     "metadata": {},
     "output_type": "execute_result"
    }
   ],
   "source": [
    "name[:-1]"
   ]
  },
  {
   "cell_type": "code",
   "execution_count": 16,
   "id": "019ed8a6",
   "metadata": {},
   "outputs": [
    {
     "data": {
      "text/plain": [
       "'Robind kumar'"
      ]
     },
     "execution_count": 16,
     "metadata": {},
     "output_type": "execute_result"
    }
   ],
   "source": [
    "# string[start:stop:step]\n",
    "name[::]"
   ]
  },
  {
   "cell_type": "code",
   "execution_count": 17,
   "id": "3280dc8f",
   "metadata": {},
   "outputs": [
    {
     "data": {
      "text/plain": [
       "'Robind kumar'"
      ]
     },
     "execution_count": 17,
     "metadata": {},
     "output_type": "execute_result"
    }
   ],
   "source": [
    "name[::1]"
   ]
  },
  {
   "cell_type": "code",
   "execution_count": 18,
   "id": "56237468",
   "metadata": {},
   "outputs": [
    {
     "data": {
      "text/plain": [
       "'Rbn ua'"
      ]
     },
     "execution_count": 18,
     "metadata": {},
     "output_type": "execute_result"
    }
   ],
   "source": [
    "name[::2]"
   ]
  },
  {
   "cell_type": "code",
   "execution_count": 19,
   "id": "d4b2ebc4",
   "metadata": {},
   "outputs": [
    {
     "data": {
      "text/plain": [
       "'Ri m'"
      ]
     },
     "execution_count": 19,
     "metadata": {},
     "output_type": "execute_result"
    }
   ],
   "source": [
    "name[::3]"
   ]
  },
  {
   "cell_type": "markdown",
   "id": "78de5fdf",
   "metadata": {},
   "source": [
    "## String Methods"
   ]
  },
  {
   "cell_type": "code",
   "execution_count": 21,
   "id": "5afb7b59",
   "metadata": {},
   "outputs": [
    {
     "data": {
      "text/plain": [
       "'Kumar'"
      ]
     },
     "execution_count": 21,
     "metadata": {},
     "output_type": "execute_result"
    }
   ],
   "source": [
    "b.capitalize()"
   ]
  },
  {
   "cell_type": "code",
   "execution_count": 23,
   "id": "81509912",
   "metadata": {},
   "outputs": [
    {
     "data": {
      "text/plain": [
       "1"
      ]
     },
     "execution_count": 23,
     "metadata": {},
     "output_type": "execute_result"
    }
   ],
   "source": [
    "name.count('a')"
   ]
  },
  {
   "cell_type": "code",
   "execution_count": 24,
   "id": "ada7478f",
   "metadata": {},
   "outputs": [
    {
     "data": {
      "text/plain": [
       "0"
      ]
     },
     "execution_count": 24,
     "metadata": {},
     "output_type": "execute_result"
    }
   ],
   "source": [
    "name.count('*')"
   ]
  },
  {
   "cell_type": "code",
   "execution_count": 26,
   "id": "1f0732b8",
   "metadata": {},
   "outputs": [
    {
     "data": {
      "text/plain": [
       "'ROBIND KUMAR'"
      ]
     },
     "execution_count": 26,
     "metadata": {},
     "output_type": "execute_result"
    }
   ],
   "source": [
    "name.upper()"
   ]
  },
  {
   "cell_type": "code",
   "execution_count": 27,
   "id": "c389fbce",
   "metadata": {},
   "outputs": [
    {
     "data": {
      "text/plain": [
       "'robind kumar'"
      ]
     },
     "execution_count": 27,
     "metadata": {},
     "output_type": "execute_result"
    }
   ],
   "source": [
    "name.lower()"
   ]
  },
  {
   "cell_type": "code",
   "execution_count": 28,
   "id": "02e7140c",
   "metadata": {},
   "outputs": [
    {
     "data": {
      "text/plain": [
       "5"
      ]
     },
     "execution_count": 28,
     "metadata": {},
     "output_type": "execute_result"
    }
   ],
   "source": [
    "a.find('d')"
   ]
  },
  {
   "cell_type": "code",
   "execution_count": 29,
   "id": "e12d595c",
   "metadata": {},
   "outputs": [
    {
     "data": {
      "text/plain": [
       "-1"
      ]
     },
     "execution_count": 29,
     "metadata": {},
     "output_type": "execute_result"
    }
   ],
   "source": [
    "a.find('D')"
   ]
  },
  {
   "cell_type": "code",
   "execution_count": 30,
   "id": "cd915698",
   "metadata": {},
   "outputs": [
    {
     "data": {
      "text/plain": [
       "'Robind '"
      ]
     },
     "execution_count": 30,
     "metadata": {},
     "output_type": "execute_result"
    }
   ],
   "source": [
    "a"
   ]
  },
  {
   "cell_type": "code",
   "execution_count": 31,
   "id": "d4c8255c",
   "metadata": {},
   "outputs": [
    {
     "data": {
      "text/plain": [
       "-1"
      ]
     },
     "execution_count": 31,
     "metadata": {},
     "output_type": "execute_result"
    }
   ],
   "source": [
    "a.find('#')"
   ]
  },
  {
   "cell_type": "code",
   "execution_count": 32,
   "id": "0d67db32",
   "metadata": {},
   "outputs": [
    {
     "data": {
      "text/plain": [
       "['Robind', 'kumar']"
      ]
     },
     "execution_count": 32,
     "metadata": {},
     "output_type": "execute_result"
    }
   ],
   "source": [
    "name.split()"
   ]
  },
  {
   "cell_type": "code",
   "execution_count": 33,
   "id": "427a9ead",
   "metadata": {},
   "outputs": [
    {
     "data": {
      "text/plain": [
       "['Robind kum', 'r']"
      ]
     },
     "execution_count": 33,
     "metadata": {},
     "output_type": "execute_result"
    }
   ],
   "source": [
    "name.split('a')"
   ]
  }
 ],
 "metadata": {
  "kernelspec": {
   "display_name": "Python 3 (ipykernel)",
   "language": "python",
   "name": "python3"
  },
  "language_info": {
   "codemirror_mode": {
    "name": "ipython",
    "version": 3
   },
   "file_extension": ".py",
   "mimetype": "text/x-python",
   "name": "python",
   "nbconvert_exporter": "python",
   "pygments_lexer": "ipython3",
   "version": "3.9.6"
  }
 },
 "nbformat": 4,
 "nbformat_minor": 5
}
