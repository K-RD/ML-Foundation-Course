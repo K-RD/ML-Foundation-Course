{
 "cells": [
  {
   "cell_type": "markdown",
   "id": "aabae935",
   "metadata": {},
   "source": [
    "## Random Module"
   ]
  },
  {
   "cell_type": "code",
   "execution_count": 6,
   "id": "cf571ddd",
   "metadata": {},
   "outputs": [
    {
     "data": {
      "text/plain": [
       "18"
      ]
     },
     "execution_count": 6,
     "metadata": {},
     "output_type": "execute_result"
    }
   ],
   "source": [
    "import random\n",
    "\n",
    "random.randrange(10,20)"
   ]
  },
  {
   "cell_type": "code",
   "execution_count": 7,
   "id": "8a7a8b5e",
   "metadata": {},
   "outputs": [
    {
     "data": {
      "text/plain": [
       "19"
      ]
     },
     "execution_count": 7,
     "metadata": {},
     "output_type": "execute_result"
    }
   ],
   "source": [
    "random.randint(10,20)"
   ]
  },
  {
   "cell_type": "markdown",
   "id": "96406e80",
   "metadata": {},
   "source": [
    "## OS Module"
   ]
  },
  {
   "cell_type": "code",
   "execution_count": 9,
   "id": "63be6d1d",
   "metadata": {},
   "outputs": [
    {
     "data": {
      "text/plain": [
       "'/Users/robindkumar/Developer/python/ML-Foundation-Course'"
      ]
     },
     "execution_count": 9,
     "metadata": {},
     "output_type": "execute_result"
    }
   ],
   "source": [
    "import os\n",
    "\n",
    "os.getcwd()"
   ]
  },
  {
   "cell_type": "code",
   "execution_count": 12,
   "id": "fb6221bf",
   "metadata": {},
   "outputs": [
    {
     "data": {
      "text/plain": [
       "b'/Users/robindkumar/Developer/python/ML-Foundation-Course'"
      ]
     },
     "execution_count": 12,
     "metadata": {},
     "output_type": "execute_result"
    }
   ],
   "source": [
    "os.getcwdb()"
   ]
  },
  {
   "cell_type": "code",
   "execution_count": 13,
   "id": "e181872d",
   "metadata": {},
   "outputs": [
    {
     "data": {
      "text/plain": [
       "['Day 3.ipynb',\n",
       " 'Day 1.ipynb',\n",
       " 'Assignments',\n",
       " '.DS_Store',\n",
       " 'Modules.ipynb',\n",
       " 'Day 2.ipynb',\n",
       " 'Day 4.ipynb',\n",
       " 'README.md',\n",
       " '.ipynb_checkpoints',\n",
       " '.git']"
      ]
     },
     "execution_count": 13,
     "metadata": {},
     "output_type": "execute_result"
    }
   ],
   "source": [
    "os.listdir()"
   ]
  },
  {
   "cell_type": "code",
   "execution_count": 16,
   "id": "ab75f700",
   "metadata": {},
   "outputs": [
    {
     "data": {
      "text/plain": [
       "'posix'"
      ]
     },
     "execution_count": 16,
     "metadata": {},
     "output_type": "execute_result"
    }
   ],
   "source": [
    "os.name"
   ]
  },
  {
   "cell_type": "markdown",
   "id": "e9c893b3",
   "metadata": {},
   "source": [
    "## RE Module"
   ]
  },
  {
   "cell_type": "code",
   "execution_count": 17,
   "id": "df9f9104",
   "metadata": {},
   "outputs": [],
   "source": [
    "import re"
   ]
  },
  {
   "cell_type": "code",
   "execution_count": 27,
   "id": "339488c3",
   "metadata": {},
   "outputs": [
    {
     "name": "stdout",
     "output_type": "stream",
     "text": [
      "<re.Match object; span=(7, 9), match='ow'>\n",
      "Start match position is 7\n",
      "End match position is 9\n"
     ]
    }
   ],
   "source": [
    "a=\"hello how are you dear students.\"\n",
    "\n",
    "h=re.search('ow',a)\n",
    "print(h)\n",
    "print(f'Start match position is {h.start()}')\n",
    "print(f'End match position is {h.end()}')"
   ]
  },
  {
   "cell_type": "code",
   "execution_count": 28,
   "id": "722c6a00",
   "metadata": {},
   "outputs": [
    {
     "data": {
      "text/plain": [
       "<re.Match object; span=(6, 9), match='how'>"
      ]
     },
     "execution_count": 28,
     "metadata": {},
     "output_type": "execute_result"
    }
   ],
   "source": [
    "re.search('h\\ww',a)"
   ]
  },
  {
   "cell_type": "code",
   "execution_count": null,
   "id": "91c7e5c5",
   "metadata": {},
   "outputs": [],
   "source": []
  }
 ],
 "metadata": {
  "kernelspec": {
   "display_name": "Python 3 (ipykernel)",
   "language": "python",
   "name": "python3"
  },
  "language_info": {
   "codemirror_mode": {
    "name": "ipython",
    "version": 3
   },
   "file_extension": ".py",
   "mimetype": "text/x-python",
   "name": "python",
   "nbconvert_exporter": "python",
   "pygments_lexer": "ipython3",
   "version": "3.11.2"
  }
 },
 "nbformat": 4,
 "nbformat_minor": 5
}
