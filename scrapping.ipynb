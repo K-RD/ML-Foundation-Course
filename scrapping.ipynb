{
 "cells": [
  {
   "cell_type": "code",
   "execution_count": 1,
   "id": "eccbb350",
   "metadata": {},
   "outputs": [],
   "source": [
    "import requests"
   ]
  },
  {
   "cell_type": "code",
   "execution_count": 2,
   "id": "bbfb4559",
   "metadata": {},
   "outputs": [],
   "source": [
    "link='https://ssgopalganj.in/'\n",
    "request=requests.get(link)"
   ]
  },
  {
   "cell_type": "code",
   "execution_count": 3,
   "id": "ca99bb99",
   "metadata": {},
   "outputs": [
    {
     "name": "stdout",
     "output_type": "stream",
     "text": [
      "<Response [200]>\n"
     ]
    }
   ],
   "source": [
    "print(request)"
   ]
  },
  {
   "cell_type": "code",
   "execution_count": 4,
   "id": "eab95455",
   "metadata": {},
   "outputs": [],
   "source": [
    "# print(request.content)\n",
    "con=request.content"
   ]
  },
  {
   "cell_type": "code",
   "execution_count": 5,
   "id": "fd499709",
   "metadata": {},
   "outputs": [],
   "source": [
    "from bs4 import BeautifulSoup as bs\n"
   ]
  },
  {
   "cell_type": "code",
   "execution_count": 6,
   "id": "df58aece",
   "metadata": {},
   "outputs": [],
   "source": [
    "soup=bs(con,'lxml')\n"
   ]
  },
  {
   "cell_type": "code",
   "execution_count": 7,
   "id": "c4a6dec3",
   "metadata": {},
   "outputs": [],
   "source": [
    "# print(soup.prettify())  # to make it more redable by applying indentation to the code"
   ]
  },
  {
   "cell_type": "code",
   "execution_count": 8,
   "id": "7723992f",
   "metadata": {},
   "outputs": [
    {
     "data": {
      "text/plain": [
       "<title>Sainik School Gopalganj</title>"
      ]
     },
     "execution_count": 8,
     "metadata": {},
     "output_type": "execute_result"
    }
   ],
   "source": [
    "# Access HTML tags like attributes\n",
    "soup.title"
   ]
  },
  {
   "cell_type": "code",
   "execution_count": 9,
   "id": "feb91eb8",
   "metadata": {},
   "outputs": [
    {
     "data": {
      "text/plain": [
       "'Sainik School Gopalganj'"
      ]
     },
     "execution_count": 9,
     "metadata": {},
     "output_type": "execute_result"
    }
   ],
   "source": [
    "soup.title.text"
   ]
  },
  {
   "cell_type": "code",
   "execution_count": 10,
   "id": "97d5584a",
   "metadata": {},
   "outputs": [
    {
     "data": {
      "text/plain": [
       "<div class=\"top-holder\"></div>"
      ]
     },
     "execution_count": 10,
     "metadata": {},
     "output_type": "execute_result"
    }
   ],
   "source": [
    "# We can access any tag like normal attributes, but it only returns first matching element\n",
    "soup.div"
   ]
  },
  {
   "cell_type": "code",
   "execution_count": 11,
   "id": "5c58b42a",
   "metadata": {},
   "outputs": [
    {
     "data": {
      "text/plain": [
       "[<div class=\"clear\"></div>,\n",
       " <div class=\"clear\"></div>,\n",
       " <div class=\"clear\">Quick Links</div>,\n",
       " <div class=\"clear\"></div>,\n",
       " <div class=\"clear\"></div>,\n",
       " <div class=\"clear\"></div>,\n",
       " <div class=\"clear\"></div>,\n",
       " <div class=\"clear\"></div>]"
      ]
     },
     "execution_count": 11,
     "metadata": {},
     "output_type": "execute_result"
    }
   ],
   "source": [
    "soup.find_all('div',class_='clear')"
   ]
  },
  {
   "cell_type": "code",
   "execution_count": 12,
   "id": "51442537",
   "metadata": {},
   "outputs": [],
   "source": [
    "# so we use find() method for searching any tags\n",
    "lpost=soup.find('div',class_='latest_posts')"
   ]
  },
  {
   "cell_type": "code",
   "execution_count": 13,
   "id": "51ce78dd",
   "metadata": {},
   "outputs": [
    {
     "data": {
      "text/plain": [
       "<img alt=\"\" class=\"alignleft\" src=\"Sainik/images/icons/ashoka_pillar.png\"/>"
      ]
     },
     "execution_count": 13,
     "metadata": {},
     "output_type": "execute_result"
    }
   ],
   "source": [
    "lpost.ul.find('li').span.img"
   ]
  },
  {
   "cell_type": "code",
   "execution_count": null,
   "id": "4db6db6f",
   "metadata": {},
   "outputs": [],
   "source": []
  }
 ],
 "metadata": {
  "kernelspec": {
   "display_name": "Python 3 (ipykernel)",
   "language": "python",
   "name": "python3"
  },
  "language_info": {
   "codemirror_mode": {
    "name": "ipython",
    "version": 3
   },
   "file_extension": ".py",
   "mimetype": "text/x-python",
   "name": "python",
   "nbconvert_exporter": "python",
   "pygments_lexer": "ipython3",
   "version": "3.11.2"
  }
 },
 "nbformat": 4,
 "nbformat_minor": 5
}
