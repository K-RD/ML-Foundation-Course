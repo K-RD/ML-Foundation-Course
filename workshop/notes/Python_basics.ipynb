{
 "cells": [
  {
   "cell_type": "code",
   "execution_count": 2,
   "id": "50267cd8",
   "metadata": {
    "id": "50267cd8"
   },
   "outputs": [],
   "source": [
    "import sys\n",
    "import keyword\n",
    "import operator\n",
    "from datetime import datetime\n",
    "import os"
   ]
  },
  {
   "cell_type": "markdown",
   "id": "36a3ec8b",
   "metadata": {
    "id": "36a3ec8b"
   },
   "source": [
    "# Keywords\n",
    "Keywords are the reserved words in Python and can't be used as an identifier"
   ]
  },
  {
   "cell_type": "code",
   "execution_count": 3,
   "id": "632f7095",
   "metadata": {
    "id": "632f7095",
    "outputId": "fbd4fdc1-c6c0-4e73-d3cb-e213d0c7bddb"
   },
   "outputs": [
    {
     "name": "stdout",
     "output_type": "stream",
     "text": [
      "['False', 'None', 'True', '__peg_parser__', 'and', 'as', 'assert', 'async', 'await', 'break', 'class', 'continue', 'def', 'del', 'elif', 'else', 'except', 'finally', 'for', 'from', 'global', 'if', 'import', 'in', 'is', 'lambda', 'nonlocal', 'not', 'or', 'pass', 'raise', 'return', 'try', 'while', 'with', 'yield']\n"
     ]
    }
   ],
   "source": [
    "print(keyword.kwlist) # List all Python Keywords"
   ]
  },
  {
   "cell_type": "code",
   "execution_count": 4,
   "id": "522762ca",
   "metadata": {
    "id": "522762ca",
    "outputId": "b980f176-23cb-464d-a034-60c59ea038c5"
   },
   "outputs": [
    {
     "data": {
      "text/plain": [
       "36"
      ]
     },
     "execution_count": 4,
     "metadata": {},
     "output_type": "execute_result"
    }
   ],
   "source": [
    "len(keyword.kwlist) # Python contains 35 keywords"
   ]
  },
  {
   "cell_type": "markdown",
   "id": "622ac02a",
   "metadata": {
    "id": "622ac02a"
   },
   "source": [
    "# Identifiers\n",
    "An identifier is a name given to entities like class, functions, variables, etc. It helps to differentiate\n",
    "one entity from another."
   ]
  },
  {
   "cell_type": "code",
   "execution_count": 5,
   "id": "073b1f16",
   "metadata": {
    "id": "073b1f16",
    "outputId": "3d9e5a53-5c42-4fc2-e413-bc0ebeca7bce"
   },
   "outputs": [
    {
     "ename": "SyntaxError",
     "evalue": "invalid syntax (2087397812.py, line 1)",
     "output_type": "error",
     "traceback": [
      "\u001b[0;36m  Cell \u001b[0;32mIn[5], line 1\u001b[0;36m\u001b[0m\n\u001b[0;31m    1var = 10 # Identifier can't start with a digit\u001b[0m\n\u001b[0m     ^\u001b[0m\n\u001b[0;31mSyntaxError\u001b[0m\u001b[0;31m:\u001b[0m invalid syntax\n"
     ]
    }
   ],
   "source": [
    "1var = 10 # Identifier can't start with a digit"
   ]
  },
  {
   "cell_type": "code",
   "execution_count": 6,
   "id": "d73456b7",
   "metadata": {
    "id": "d73456b7"
   },
   "outputs": [
    {
     "ename": "SyntaxError",
     "evalue": "invalid syntax (619048856.py, line 1)",
     "output_type": "error",
     "traceback": [
      "\u001b[0;36m  Cell \u001b[0;32mIn[6], line 1\u001b[0;36m\u001b[0m\n\u001b[0;31m    val2@ = 35 # Identifier can't use special symbols\u001b[0m\n\u001b[0m          ^\u001b[0m\n\u001b[0;31mSyntaxError\u001b[0m\u001b[0;31m:\u001b[0m invalid syntax\n"
     ]
    }
   ],
   "source": [
    "val2@ = 35 # Identifier can't use special symbols"
   ]
  },
  {
   "cell_type": "code",
   "execution_count": 7,
   "id": "731b1cfc",
   "metadata": {
    "id": "731b1cfc"
   },
   "outputs": [
    {
     "ename": "SyntaxError",
     "evalue": "invalid syntax (2492423719.py, line 1)",
     "output_type": "error",
     "traceback": [
      "\u001b[0;36m  Cell \u001b[0;32mIn[7], line 1\u001b[0;36m\u001b[0m\n\u001b[0;31m    import = 125 # Keywords can't be used as identifiers\u001b[0m\n\u001b[0m           ^\u001b[0m\n\u001b[0;31mSyntaxError\u001b[0m\u001b[0;31m:\u001b[0m invalid syntax\n"
     ]
    }
   ],
   "source": [
    "import = 125 # Keywords can't be used as identifiers"
   ]
  },
  {
   "cell_type": "code",
   "execution_count": 8,
   "id": "87d2772e",
   "metadata": {
    "id": "87d2772e"
   },
   "outputs": [],
   "source": [
    "\"\"\"\n",
    "Correct way of defining an identifier\n",
    "(Identifiers can be a combination of letters in lowercase (a to z) or uppercase (\n",
    "\"\"\"\n",
    "val2 = 10"
   ]
  },
  {
   "cell_type": "code",
   "execution_count": 9,
   "id": "60164796",
   "metadata": {
    "id": "60164796"
   },
   "outputs": [],
   "source": [
    "val_ = 99"
   ]
  },
  {
   "cell_type": "markdown",
   "id": "06bd852f",
   "metadata": {
    "id": "06bd852f"
   },
   "source": [
    "# Comments in Python\n",
    "Comments can be used to explain the code for more readabilty."
   ]
  },
  {
   "cell_type": "code",
   "execution_count": 10,
   "id": "84c1b363",
   "metadata": {
    "id": "84c1b363"
   },
   "outputs": [],
   "source": [
    "# Single line comment\n",
    "val1 = 10"
   ]
  },
  {
   "cell_type": "code",
   "execution_count": 11,
   "id": "6a52ea21",
   "metadata": {
    "id": "6a52ea21"
   },
   "outputs": [],
   "source": [
    "# Multiple\n",
    "# line\n",
    "# comment\n",
    "val1 = 10"
   ]
  },
  {
   "cell_type": "code",
   "execution_count": 12,
   "id": "3fcf0c37",
   "metadata": {
    "id": "3fcf0c37"
   },
   "outputs": [],
   "source": [
    "'''\n",
    "Multiple\n",
    "line\n",
    "comment\n",
    "'''\n",
    "val1 = 10"
   ]
  },
  {
   "cell_type": "code",
   "execution_count": 13,
   "id": "bb8e0925",
   "metadata": {
    "id": "bb8e0925"
   },
   "outputs": [],
   "source": [
    "\"\"\"\n",
    "Multiple\n",
    "line\n",
    "comment\n",
    "\"\"\"\n",
    "val1 = 10"
   ]
  },
  {
   "cell_type": "markdown",
   "id": "bddf6ffc",
   "metadata": {
    "id": "bddf6ffc"
   },
   "source": [
    "# Statements\n",
    "Instructions that a Python interpreter can execute."
   ]
  },
  {
   "cell_type": "code",
   "execution_count": 14,
   "id": "b8a6b806",
   "metadata": {
    "id": "b8a6b806",
    "outputId": "815b1d27-e334-40bc-fcc5-f0cfa6ae1c43"
   },
   "outputs": [
    {
     "data": {
      "text/plain": [
       "30"
      ]
     },
     "execution_count": 14,
     "metadata": {},
     "output_type": "execute_result"
    }
   ],
   "source": [
    "# Single line statement\n",
    "p1 = 10 + 20\n",
    "p1"
   ]
  },
  {
   "cell_type": "code",
   "execution_count": 15,
   "id": "3a5db7d9",
   "metadata": {
    "id": "3a5db7d9",
    "outputId": "72e7a0cb-d516-465a-aa86-8b4aa247c6d7"
   },
   "outputs": [
    {
     "data": {
      "text/plain": [
       "['a', 'b', 'c', 'd']"
      ]
     },
     "execution_count": 15,
     "metadata": {},
     "output_type": "execute_result"
    }
   ],
   "source": [
    "# Single line statement\n",
    "p2 = ['a' , 'b' , 'c' , 'd']\n",
    "p2"
   ]
  },
  {
   "cell_type": "code",
   "execution_count": 17,
   "id": "4ab9da69",
   "metadata": {
    "id": "4ab9da69",
    "outputId": "a6a6c44d-4cc0-4e08-a9fb-7182be938985"
   },
   "outputs": [
    {
     "data": {
      "text/plain": [
       "290"
      ]
     },
     "execution_count": 17,
     "metadata": {},
     "output_type": "execute_result"
    }
   ],
   "source": [
    "# Multiple line statement\n",
    "p1 = 20 + 30 \\\n",
    "+ 40 + 50 +\\\n",
    "+ 70 + 80\n",
    "p1"
   ]
  },
  {
   "cell_type": "code",
   "execution_count": 20,
   "id": "39e2faa5",
   "metadata": {
    "id": "39e2faa5",
    "outputId": "ed28792e-a77c-45c1-8fc9-4345e6d3b47a"
   },
   "outputs": [
    {
     "name": "stdout",
     "output_type": "stream",
     "text": [
      "<class 'list'>\n"
     ]
    }
   ],
   "source": [
    "# Multiple line statement\n",
    "p2 = ['a' ,\n",
    "'b' ,\n",
    "'c' ,\n",
    "'d'\n",
    "]\n",
    "p2\n",
    "print(type(p2))"
   ]
  },
  {
   "cell_type": "raw",
   "id": "4864db17-974f-4c9f-8399-e27a1d0dc120",
   "metadata": {},
   "source": [
    "print(type(p2))"
   ]
  },
  {
   "cell_type": "markdown",
   "id": "49209aa5",
   "metadata": {
    "id": "49209aa5"
   },
   "source": [
    "# Indentation\n",
    "Indentation refers to the spaces at the beginning of a code line. It is very important as Python uses\n",
    "indentation to indicate a block of code.If the indentation is not correct we will endup with\n",
    "IndentationError error."
   ]
  },
  {
   "cell_type": "code",
   "execution_count": null,
   "id": "2cda42aa",
   "metadata": {
    "id": "2cda42aa",
    "outputId": "7ab52941-4190-4153-ddbc-fd0e9d110ded"
   },
   "outputs": [
    {
     "ename": "IndentationError",
     "evalue": "expected an indented block after 'if' statement on line 2 (3316241393.py, line 3)",
     "output_type": "error",
     "traceback": [
      "\u001b[1;36m  Cell \u001b[1;32mIn[42], line 3\u001b[1;36m\u001b[0m\n\u001b[1;33m    print ('P is equal to 10') # correct indentation\u001b[0m\n\u001b[1;37m    ^\u001b[0m\n\u001b[1;31mIndentationError\u001b[0m\u001b[1;31m:\u001b[0m expected an indented block after 'if' statement on line 2\n"
     ]
    }
   ],
   "source": [
    "p = 10\n",
    "if p == 10:\n",
    "print ('P is equal to 10') # correct indentation"
   ]
  },
  {
   "cell_type": "code",
   "execution_count": null,
   "id": "22056f8d",
   "metadata": {
    "id": "22056f8d",
    "outputId": "7f9c14ea-4f4e-4d73-adb7-c5a560c9e890"
   },
   "outputs": [
    {
     "name": "stdout",
     "output_type": "stream",
     "text": [
      "0\n",
      "1\n",
      "2\n",
      "3\n",
      "4\n"
     ]
    }
   ],
   "source": [
    "for i in range(0,5):\n",
    "  print(i) # correct indentation"
   ]
  },
  {
   "cell_type": "code",
   "execution_count": null,
   "id": "152092d4",
   "metadata": {
    "id": "152092d4",
    "outputId": "8700eeec-74d0-4f3a-b11b-6a2cabe1056c"
   },
   "outputs": [
    {
     "ename": "IndentationError",
     "evalue": "expected an indented block after 'for' statement on line 2 (1045564478.py, line 3)",
     "output_type": "error",
     "traceback": [
      "\u001b[1;36m  Cell \u001b[1;32mIn[44], line 3\u001b[1;36m\u001b[0m\n\u001b[1;33m    print(i)\u001b[0m\n\u001b[1;37m    ^\u001b[0m\n\u001b[1;31mIndentationError\u001b[0m\u001b[1;31m:\u001b[0m expected an indented block after 'for' statement on line 2\n"
     ]
    }
   ],
   "source": [
    "# if indentation is skipped we will encounter \"IndentationError: expected an inde\n",
    "for i in range(0,5):\n",
    "print(i)"
   ]
  },
  {
   "cell_type": "code",
   "execution_count": null,
   "id": "dac13f18",
   "metadata": {
    "id": "dac13f18",
    "outputId": "b680e2cd-6de6-4daf-ae4f-8747026dcaeb"
   },
   "outputs": [
    {
     "name": "stdout",
     "output_type": "stream",
     "text": [
      "0\n",
      "1\n",
      "2\n",
      "3\n",
      "4\n"
     ]
    }
   ],
   "source": [
    "for i in range(0,5): print(i) # correct indentation but less readable"
   ]
  },
  {
   "cell_type": "code",
   "execution_count": null,
   "id": "ea549dce",
   "metadata": {
    "id": "ea549dce",
    "outputId": "de6186ab-cf7c-4510-a1d0-ceae5884f52b"
   },
   "outputs": [
    {
     "name": "stdout",
     "output_type": "stream",
     "text": [
      "0\n",
      "1\n",
      "2\n",
      "3\n",
      "4\n",
      "20\n"
     ]
    }
   ],
   "source": [
    "j=20\n",
    "for i in range(0,5):\n",
    "  print(i) # inside the for loop\n",
    "print(j) # outside the for loop"
   ]
  },
  {
   "cell_type": "markdown",
   "id": "e34d0256",
   "metadata": {
    "id": "e34d0256"
   },
   "source": [
    "# Docstrings\n",
    "1) Docstrings provide a convenient way of associating documentation with functions, classes,\n",
    "methods or modules.\n",
    "2) They appear right after the definition of a function, method, class, or module."
   ]
  },
  {
   "cell_type": "code",
   "execution_count": null,
   "id": "83f412c7",
   "metadata": {
    "id": "83f412c7"
   },
   "outputs": [],
   "source": [
    "def square(num):\n",
    "      '''Square Function :- This function will return the square of a number'''\n",
    "      return num**2"
   ]
  },
  {
   "cell_type": "code",
   "execution_count": null,
   "id": "df859d16",
   "metadata": {
    "id": "df859d16",
    "outputId": "bd70f1d1-b9b5-43fd-e4ec-32fe810d4ea1"
   },
   "outputs": [
    {
     "data": {
      "text/plain": [
       "4"
      ]
     },
     "execution_count": 48,
     "metadata": {},
     "output_type": "execute_result"
    }
   ],
   "source": [
    "square(2)"
   ]
  },
  {
   "cell_type": "code",
   "execution_count": null,
   "id": "7fcc7210",
   "metadata": {
    "id": "7fcc7210",
    "outputId": "6d2e9df0-d15b-4c43-fc97-155397247455"
   },
   "outputs": [
    {
     "data": {
      "text/plain": [
       "'Square Function :- This function will return the square of a number'"
      ]
     },
     "execution_count": 49,
     "metadata": {},
     "output_type": "execute_result"
    }
   ],
   "source": [
    "square.__doc__ # We can access the Docstring using __doc__ method"
   ]
  },
  {
   "cell_type": "code",
   "execution_count": null,
   "id": "abb1632d",
   "metadata": {
    "id": "abb1632d"
   },
   "outputs": [],
   "source": [
    "def evenodd(num):\n",
    "          '''evenodd Function :- This function will test whether a numbr is Even or Odd'''\n",
    "          if num % 2 == 0:\n",
    "                print(\"Even Number\")\n",
    "          else:\n",
    "                print(\"Odd Number\")"
   ]
  },
  {
   "cell_type": "code",
   "execution_count": null,
   "id": "53296844",
   "metadata": {
    "id": "53296844",
    "outputId": "075d2213-518d-4045-af0b-be592db7e629"
   },
   "outputs": [
    {
     "name": "stdout",
     "output_type": "stream",
     "text": [
      "Odd Number\n"
     ]
    }
   ],
   "source": [
    "evenodd(3)"
   ]
  },
  {
   "cell_type": "code",
   "execution_count": null,
   "id": "2d54b062",
   "metadata": {
    "id": "2d54b062",
    "outputId": "c03f6b22-f207-4853-fa30-24cdc2516246"
   },
   "outputs": [
    {
     "name": "stdout",
     "output_type": "stream",
     "text": [
      "Even Number\n"
     ]
    }
   ],
   "source": [
    "evenodd(2)"
   ]
  },
  {
   "cell_type": "code",
   "execution_count": null,
   "id": "c02e05d4",
   "metadata": {
    "id": "c02e05d4",
    "outputId": "2683f2c8-32ca-474f-f926-80f187496272"
   },
   "outputs": [
    {
     "data": {
      "text/plain": [
       "'evenodd Function :- This function will test whether a numbr is Even or Odd'"
      ]
     },
     "execution_count": 53,
     "metadata": {},
     "output_type": "execute_result"
    }
   ],
   "source": [
    "evenodd.__doc__"
   ]
  },
  {
   "cell_type": "markdown",
   "id": "c1c28957",
   "metadata": {
    "id": "c1c28957"
   },
   "source": [
    "# Variables\n",
    "A Python variable is a reserved memory location to store values.A variable is created the moment\n",
    "you first assign a value to it."
   ]
  },
  {
   "cell_type": "code",
   "execution_count": null,
   "id": "fc31d2ae",
   "metadata": {
    "id": "fc31d2ae"
   },
   "outputs": [],
   "source": [
    "p = 30"
   ]
  },
  {
   "cell_type": "code",
   "execution_count": null,
   "id": "6917ee87",
   "metadata": {
    "id": "6917ee87",
    "outputId": "b7a16592-5f80-4b4c-8913-a3f3b2fdcb72"
   },
   "outputs": [
    {
     "data": {
      "text/plain": [
       "140710111450824"
      ]
     },
     "execution_count": 55,
     "metadata": {},
     "output_type": "execute_result"
    }
   ],
   "source": [
    "'''\n",
    "id() function returns the “identity” of the object.\n",
    "The identity of an object - Is an integer\n",
    "- Guaranteed to be unique\n",
    "- Constant for this object during its lifetime.\n",
    "'''\n",
    "id(p)"
   ]
  },
  {
   "cell_type": "code",
   "execution_count": null,
   "id": "6c771c97",
   "metadata": {
    "id": "6c771c97",
    "outputId": "eadd0039-8db5-4ac0-8f24-21de53b483e2"
   },
   "outputs": [
    {
     "data": {
      "text/plain": [
       "'0x7ff9a03596c8'"
      ]
     },
     "execution_count": 56,
     "metadata": {},
     "output_type": "execute_result"
    }
   ],
   "source": [
    "hex(id(p)) # Memory address of the variable"
   ]
  },
  {
   "cell_type": "code",
   "execution_count": null,
   "id": "0dcd75c8",
   "metadata": {
    "id": "0dcd75c8",
    "outputId": "9cedd121-d0ba-4697-ea20-624c2de1feae"
   },
   "outputs": [
    {
     "data": {
      "text/plain": [
       "(20, int, '0x7ff9a0359588')"
      ]
     },
     "execution_count": 57,
     "metadata": {},
     "output_type": "execute_result"
    }
   ],
   "source": [
    "p = 20 #Creates an integer object with value 20 and assigns the variable p to po\n",
    "q = 20 # Create new reference q which will point to value 20. p & q will be poin\n",
    "r = q # variable r will also point to the same location where p & q are pointing\n",
    "p , type(p), hex(id(p)) # Variable P is pointing to memory location '0x7fff6d71a3"
   ]
  },
  {
   "cell_type": "code",
   "execution_count": null,
   "id": "b190d107",
   "metadata": {
    "id": "b190d107",
    "outputId": "5dd37987-44ff-4f6c-82b4-c9d88d5382cb"
   },
   "outputs": [
    {
     "data": {
      "text/plain": [
       "(20, int, '0x7ff9a0359588')"
      ]
     },
     "execution_count": 58,
     "metadata": {},
     "output_type": "execute_result"
    }
   ],
   "source": [
    "q , type(q), hex(id(q))"
   ]
  },
  {
   "cell_type": "code",
   "execution_count": null,
   "id": "6a07508c",
   "metadata": {
    "id": "6a07508c",
    "outputId": "d5be24da-c4b5-4905-87aa-15f99b68804f"
   },
   "outputs": [
    {
     "data": {
      "text/plain": [
       "(20, int, '0x7ff9a0359588')"
      ]
     },
     "execution_count": 59,
     "metadata": {},
     "output_type": "execute_result"
    }
   ],
   "source": [
    "r , type(r), hex(id(r))"
   ]
  },
  {
   "cell_type": "code",
   "execution_count": null,
   "id": "168ba0c1",
   "metadata": {
    "id": "168ba0c1",
    "outputId": "c3c1f273-8205-4262-abca-8b813112878f"
   },
   "outputs": [
    {
     "data": {
      "text/plain": [
       "30"
      ]
     },
     "execution_count": 60,
     "metadata": {},
     "output_type": "execute_result"
    }
   ],
   "source": [
    "p = 20\n",
    "p = p + 10 # Variable Overwriting\n",
    "p"
   ]
  },
  {
   "cell_type": "markdown",
   "id": "5ee414d3",
   "metadata": {
    "id": "5ee414d3"
   },
   "source": [
    "# Variable Assigment"
   ]
  },
  {
   "cell_type": "code",
   "execution_count": null,
   "id": "7cfaf81f",
   "metadata": {
    "id": "7cfaf81f",
    "outputId": "2be97b3c-2219-4599-c9fc-f22c411a3b53"
   },
   "outputs": [
    {
     "name": "stdout",
     "output_type": "stream",
     "text": [
      "10\n",
      "2.57\n",
      "Python Language\n"
     ]
    }
   ],
   "source": [
    "intvar = 10 # Integer variable\n",
    "floatvar = 2.57 # Float Variable\n",
    "strvar = \"Python Language\" # String variable\n",
    "print(intvar)\n",
    "print(floatvar)\n",
    "print(strvar)"
   ]
  },
  {
   "cell_type": "markdown",
   "id": "7320b420",
   "metadata": {
    "id": "7320b420"
   },
   "source": [
    "# Multiple Assignments"
   ]
  },
  {
   "cell_type": "code",
   "execution_count": null,
   "id": "4ef4b716",
   "metadata": {
    "id": "4ef4b716",
    "outputId": "c0395cc3-848e-4c77-a1f8-8677609daf60"
   },
   "outputs": [
    {
     "name": "stdout",
     "output_type": "stream",
     "text": [
      "10\n",
      "2.57\n",
      "Python Language\n"
     ]
    }
   ],
   "source": [
    "intvar , floatvar , strvar = 10,2.57,\"Python Language\" # Using commas to separate\n",
    "print(intvar)\n",
    "print(floatvar)\n",
    "print(strvar)"
   ]
  },
  {
   "cell_type": "code",
   "execution_count": null,
   "id": "ce0a9cd6",
   "metadata": {
    "id": "ce0a9cd6",
    "outputId": "63f8c65f-24f4-4118-f05a-5ab314db784b"
   },
   "outputs": [
    {
     "name": "stdout",
     "output_type": "stream",
     "text": [
      "44 44 44 44\n"
     ]
    }
   ],
   "source": [
    "p1 = p2 = p3 = p4 = 44 # All variables pointing to same value\n",
    "print(p1,p2,p3,p4)"
   ]
  },
  {
   "cell_type": "markdown",
   "id": "29007867",
   "metadata": {
    "id": "29007867"
   },
   "source": [
    "# Data Types"
   ]
  },
  {
   "cell_type": "markdown",
   "id": "a6289676",
   "metadata": {
    "id": "a6289676"
   },
   "source": [
    "## Numeric"
   ]
  },
  {
   "cell_type": "code",
   "execution_count": null,
   "id": "79d91d34",
   "metadata": {
    "id": "79d91d34",
    "outputId": "2a07cc3c-298b-4406-c159-a6462ce0df17"
   },
   "outputs": [
    {
     "name": "stdout",
     "output_type": "stream",
     "text": [
      "10\n",
      "<class 'int'>\n",
      "28\n",
      "10  is Integer? True\n"
     ]
    }
   ],
   "source": [
    "val1 = 10 # Integer data type\n",
    "print(val1)\n",
    "print(type(val1)) # type of object\n",
    "print(sys.getsizeof(val1)) # size of integer object in bytes\n",
    "print(val1, \" is Integer?\", isinstance(val1, int)) # val1 is an instance of int c"
   ]
  },
  {
   "cell_type": "code",
   "execution_count": null,
   "id": "74c8fd0b",
   "metadata": {
    "id": "74c8fd0b",
    "outputId": "d8070257-441d-4abf-c80b-c6ff12a2ec98"
   },
   "outputs": [
    {
     "name": "stdout",
     "output_type": "stream",
     "text": [
      "92.78\n",
      "<class 'float'>\n",
      "24\n",
      "92.78  is float? True\n"
     ]
    }
   ],
   "source": [
    "val2 = 92.78 # Float data type\n",
    "print(val2)\n",
    "print(type(val2)) # type of object\n",
    "print(sys.getsizeof(val2)) # size of float object in bytes\n",
    "print(val2, \" is float?\", isinstance(val2, float)) # Val2 is an instance of float"
   ]
  },
  {
   "cell_type": "code",
   "execution_count": null,
   "id": "0ab0fdaf",
   "metadata": {
    "id": "0ab0fdaf",
    "outputId": "ca50b4c0-c4c2-45ca-fd1f-e0fe3f1913a8"
   },
   "outputs": [
    {
     "name": "stdout",
     "output_type": "stream",
     "text": [
      "(25+10j)\n",
      "<class 'complex'>\n",
      "32\n",
      "(25+10j)  is complex? True\n"
     ]
    }
   ],
   "source": [
    "val3 = 25 + 10j # Complex data type\n",
    "print(val3)\n",
    "print(type(val3)) # type of object\n",
    "print(sys.getsizeof(val3)) # size of float object in bytes\n",
    "print(val3, \" is complex?\", isinstance(val3, complex)) # val3 is an instance of c"
   ]
  },
  {
   "cell_type": "code",
   "execution_count": null,
   "id": "c1c31d5f",
   "metadata": {
    "id": "c1c31d5f",
    "outputId": "54056498-bc28-4443-bc3f-26377558db5d"
   },
   "outputs": [
    {
     "data": {
      "text/plain": [
       "28"
      ]
     },
     "execution_count": 67,
     "metadata": {},
     "output_type": "execute_result"
    }
   ],
   "source": [
    "sys.getsizeof(int()) # size of integer object in bytes"
   ]
  },
  {
   "cell_type": "code",
   "execution_count": null,
   "id": "05a5c25e",
   "metadata": {
    "id": "05a5c25e",
    "outputId": "7f6c7b94-5601-42f9-9e4a-3a7c03bfe9d0"
   },
   "outputs": [
    {
     "data": {
      "text/plain": [
       "24"
      ]
     },
     "execution_count": 68,
     "metadata": {},
     "output_type": "execute_result"
    }
   ],
   "source": [
    "sys.getsizeof(float()) # size of float object in bytes"
   ]
  },
  {
   "cell_type": "code",
   "execution_count": null,
   "id": "c00a6a57",
   "metadata": {
    "id": "c00a6a57",
    "outputId": "70eeee6a-67d0-4eee-9972-a3d120e36b3d"
   },
   "outputs": [
    {
     "data": {
      "text/plain": [
       "32"
      ]
     },
     "execution_count": 69,
     "metadata": {},
     "output_type": "execute_result"
    }
   ],
   "source": [
    "sys.getsizeof(complex()) # size of complex object in bytes"
   ]
  },
  {
   "cell_type": "markdown",
   "id": "0bc8ef5b",
   "metadata": {
    "id": "0bc8ef5b"
   },
   "source": [
    "# Boolean\n",
    "Boolean data type can have only two possible values true or false."
   ]
  },
  {
   "cell_type": "code",
   "execution_count": null,
   "id": "c8d29b19",
   "metadata": {
    "id": "c8d29b19"
   },
   "outputs": [],
   "source": [
    "bool1 = True"
   ]
  },
  {
   "cell_type": "code",
   "execution_count": null,
   "id": "1b42e3ee",
   "metadata": {
    "id": "1b42e3ee"
   },
   "outputs": [],
   "source": [
    "bool2 = False"
   ]
  },
  {
   "cell_type": "code",
   "execution_count": null,
   "id": "1228a077",
   "metadata": {
    "id": "1228a077",
    "outputId": "ba2a89b1-2282-4122-e8b1-00a955ccab33"
   },
   "outputs": [
    {
     "name": "stdout",
     "output_type": "stream",
     "text": [
      "<class 'bool'>\n"
     ]
    }
   ],
   "source": [
    "print(type(bool1))"
   ]
  },
  {
   "cell_type": "code",
   "execution_count": null,
   "id": "33900d7f",
   "metadata": {
    "id": "33900d7f",
    "outputId": "c8da985a-098f-4c7a-e5ae-545fc3f1efd5"
   },
   "outputs": [
    {
     "name": "stdout",
     "output_type": "stream",
     "text": [
      "<class 'bool'>\n"
     ]
    }
   ],
   "source": [
    "print(type(bool2))"
   ]
  },
  {
   "cell_type": "code",
   "execution_count": null,
   "id": "801be153",
   "metadata": {
    "id": "801be153",
    "outputId": "cf814bf9-d71e-4e60-b7b0-fbe0471dd906"
   },
   "outputs": [
    {
     "data": {
      "text/plain": [
       "True"
      ]
     },
     "execution_count": 74,
     "metadata": {},
     "output_type": "execute_result"
    }
   ],
   "source": [
    "isinstance(bool1, bool)"
   ]
  },
  {
   "cell_type": "code",
   "execution_count": null,
   "id": "f3e0c52c",
   "metadata": {
    "id": "f3e0c52c",
    "outputId": "0ec73426-11b1-45b2-a4d1-e414697bd112"
   },
   "outputs": [
    {
     "data": {
      "text/plain": [
       "False"
      ]
     },
     "execution_count": 75,
     "metadata": {},
     "output_type": "execute_result"
    }
   ],
   "source": [
    "bool(0)"
   ]
  },
  {
   "cell_type": "code",
   "execution_count": null,
   "id": "c7c0be60",
   "metadata": {
    "id": "c7c0be60",
    "outputId": "2316eab5-a285-42bf-ccf5-94057274fc36"
   },
   "outputs": [
    {
     "data": {
      "text/plain": [
       "True"
      ]
     },
     "execution_count": 76,
     "metadata": {},
     "output_type": "execute_result"
    }
   ],
   "source": [
    "bool(1)"
   ]
  },
  {
   "cell_type": "code",
   "execution_count": null,
   "id": "2da2320e",
   "metadata": {
    "id": "2da2320e",
    "outputId": "e095e846-ca35-4633-8c71-c8e33eb95b82"
   },
   "outputs": [
    {
     "data": {
      "text/plain": [
       "False"
      ]
     },
     "execution_count": 77,
     "metadata": {},
     "output_type": "execute_result"
    }
   ],
   "source": [
    "bool(None)"
   ]
  },
  {
   "cell_type": "code",
   "execution_count": null,
   "id": "dde90040",
   "metadata": {
    "id": "dde90040",
    "outputId": "14109d31-a3c5-4691-df67-957e554c86bd"
   },
   "outputs": [
    {
     "data": {
      "text/plain": [
       "False"
      ]
     },
     "execution_count": 78,
     "metadata": {},
     "output_type": "execute_result"
    }
   ],
   "source": [
    "bool (False)"
   ]
  },
  {
   "cell_type": "markdown",
   "id": "5d159ffc",
   "metadata": {
    "id": "5d159ffc"
   },
   "source": [
    "## Strings"
   ]
  },
  {
   "cell_type": "markdown",
   "id": "2b915d4a",
   "metadata": {
    "id": "2b915d4a"
   },
   "source": [
    "### String Creation"
   ]
  },
  {
   "cell_type": "code",
   "execution_count": null,
   "id": "77f0b1cf",
   "metadata": {
    "id": "77f0b1cf",
    "outputId": "b1104427-b0af-4cbc-97e2-8a2e3e4a5ad1"
   },
   "outputs": [
    {
     "name": "stdout",
     "output_type": "stream",
     "text": [
      "HELLO PYTHON\n"
     ]
    }
   ],
   "source": [
    "str1 = \"HELLO PYTHON\"\n",
    "print(str1)"
   ]
  },
  {
   "cell_type": "code",
   "execution_count": null,
   "id": "7301ca74",
   "metadata": {
    "id": "7301ca74",
    "outputId": "01425cea-6b22-455b-be46-da8f72ffa30e"
   },
   "outputs": [
    {
     "name": "stdout",
     "output_type": "stream",
     "text": [
      "Hello World\n"
     ]
    }
   ],
   "source": [
    "mystr = 'Hello World' # Define string using single quotes\n",
    "print(mystr)"
   ]
  },
  {
   "cell_type": "code",
   "execution_count": null,
   "id": "15a08224",
   "metadata": {
    "id": "15a08224",
    "outputId": "4f1a0cb1-04f7-4c28-ecf3-14bcd953d5ef"
   },
   "outputs": [
    {
     "name": "stdout",
     "output_type": "stream",
     "text": [
      "Hello World\n"
     ]
    }
   ],
   "source": [
    "mystr = \"Hello World\" # Define string using double quotes\n",
    "print(mystr)"
   ]
  },
  {
   "cell_type": "code",
   "execution_count": null,
   "id": "7588177e",
   "metadata": {
    "id": "7588177e",
    "outputId": "ac03530c-9212-41d1-d9f8-1b6635c307bc"
   },
   "outputs": [
    {
     "name": "stdout",
     "output_type": "stream",
     "text": [
      "Hello\n",
      "World \n"
     ]
    }
   ],
   "source": [
    "mystr = '''Hello\n",
    "World ''' # Define string using triple quotes\n",
    "print(mystr)"
   ]
  },
  {
   "cell_type": "code",
   "execution_count": null,
   "id": "8d9f2e86",
   "metadata": {
    "id": "8d9f2e86",
    "outputId": "12a94066-898f-4597-acd7-70d4244afd31"
   },
   "outputs": [
    {
     "name": "stdout",
     "output_type": "stream",
     "text": [
      "Hello\n",
      "World\n"
     ]
    }
   ],
   "source": [
    "mystr = \"\"\"Hello\n",
    "World\"\"\" # Define string using triple quotes\n",
    "print(mystr)"
   ]
  },
  {
   "cell_type": "code",
   "execution_count": null,
   "id": "501560d6",
   "metadata": {
    "id": "501560d6",
    "outputId": "f1b3f84a-604b-4756-fdf7-d884b553d346"
   },
   "outputs": [
    {
     "name": "stdout",
     "output_type": "stream",
     "text": [
      "Happy Monday Everyone\n"
     ]
    }
   ],
   "source": [
    "mystr = ('Happy '\n",
    "'Monday '\n",
    "'Everyone')\n",
    "print(mystr)"
   ]
  },
  {
   "cell_type": "code",
   "execution_count": null,
   "id": "b7726aff",
   "metadata": {
    "id": "b7726aff",
    "outputId": "0472079e-6585-40f3-d7d2-8fae3ac580b2"
   },
   "outputs": [
    {
     "data": {
      "text/plain": [
       "'Woohoo Woohoo Woohoo Woohoo Woohoo '"
      ]
     },
     "execution_count": 85,
     "metadata": {},
     "output_type": "execute_result"
    }
   ],
   "source": [
    "mystr2 = 'Woohoo '\n",
    "mystr2 = mystr2*5\n",
    "mystr2"
   ]
  },
  {
   "cell_type": "code",
   "execution_count": null,
   "id": "2e58f873",
   "metadata": {
    "id": "2e58f873",
    "outputId": "b81f478f-15b3-44e2-afc6-09479efc475d"
   },
   "outputs": [
    {
     "data": {
      "text/plain": [
       "35"
      ]
     },
     "execution_count": 86,
     "metadata": {},
     "output_type": "execute_result"
    }
   ],
   "source": [
    "len(mystr2) # Length of string"
   ]
  },
  {
   "cell_type": "markdown",
   "id": "f2fbf846",
   "metadata": {
    "id": "f2fbf846"
   },
   "source": [
    "### String Indexing"
   ]
  },
  {
   "cell_type": "code",
   "execution_count": null,
   "id": "38f9ed3d",
   "metadata": {
    "id": "38f9ed3d",
    "outputId": "cda4c977-8d4e-420e-977d-7f11af53e7a3"
   },
   "outputs": [
    {
     "data": {
      "text/plain": [
       "'HELLO PYTHON'"
      ]
     },
     "execution_count": 87,
     "metadata": {},
     "output_type": "execute_result"
    }
   ],
   "source": [
    "str1"
   ]
  },
  {
   "cell_type": "code",
   "execution_count": null,
   "id": "366e8397",
   "metadata": {
    "id": "366e8397",
    "outputId": "d1b31ee1-3e0a-4cf6-8ca8-0d68912d512d"
   },
   "outputs": [
    {
     "data": {
      "text/plain": [
       "'H'"
      ]
     },
     "execution_count": 88,
     "metadata": {},
     "output_type": "execute_result"
    }
   ],
   "source": [
    "str1[0] # First character in string \"str1\""
   ]
  },
  {
   "cell_type": "code",
   "execution_count": null,
   "id": "f6ec2d5d",
   "metadata": {
    "id": "f6ec2d5d",
    "outputId": "8300e8a9-f24d-4cf7-dc48-c99375038cb0"
   },
   "outputs": [
    {
     "data": {
      "text/plain": [
       "'N'"
      ]
     },
     "execution_count": 89,
     "metadata": {},
     "output_type": "execute_result"
    }
   ],
   "source": [
    "str1[len(str1)-1] # Last character in string using len function"
   ]
  },
  {
   "cell_type": "code",
   "execution_count": null,
   "id": "760454ed",
   "metadata": {
    "id": "760454ed",
    "outputId": "049ca242-50ab-4288-ae4b-fd0c37328add"
   },
   "outputs": [
    {
     "data": {
      "text/plain": [
       "'N'"
      ]
     },
     "execution_count": 90,
     "metadata": {},
     "output_type": "execute_result"
    }
   ],
   "source": [
    "str1[-1] # Last character in string"
   ]
  },
  {
   "cell_type": "code",
   "execution_count": null,
   "id": "7508a156",
   "metadata": {
    "id": "7508a156",
    "outputId": "a64e1f6b-6e37-4a65-c222-6642778a5df1"
   },
   "outputs": [
    {
     "data": {
      "text/plain": [
       "'P'"
      ]
     },
     "execution_count": 91,
     "metadata": {},
     "output_type": "execute_result"
    }
   ],
   "source": [
    "str1[6] #Fetch 7th element of the string"
   ]
  },
  {
   "cell_type": "code",
   "execution_count": null,
   "id": "58c2dab5",
   "metadata": {
    "id": "58c2dab5",
    "outputId": "0463ee14-36b5-4888-b486-26c5af3a1517"
   },
   "outputs": [
    {
     "data": {
      "text/plain": [
       "' '"
      ]
     },
     "execution_count": 92,
     "metadata": {},
     "output_type": "execute_result"
    }
   ],
   "source": [
    "str1[5]"
   ]
  },
  {
   "cell_type": "markdown",
   "id": "e75ede7a",
   "metadata": {
    "id": "e75ede7a"
   },
   "source": [
    "### String Slicing"
   ]
  },
  {
   "cell_type": "code",
   "execution_count": null,
   "id": "f5c7c2b0",
   "metadata": {
    "id": "f5c7c2b0",
    "outputId": "780012fc-5562-43f4-aa05-0bbb75d7be1a"
   },
   "outputs": [
    {
     "data": {
      "text/plain": [
       "'HELLO'"
      ]
     },
     "execution_count": 93,
     "metadata": {},
     "output_type": "execute_result"
    }
   ],
   "source": [
    "str1[0:5] # String slicing - Fetch all characters from 0 to 5 index location excluded"
   ]
  },
  {
   "cell_type": "code",
   "execution_count": null,
   "id": "b8c05402",
   "metadata": {
    "id": "b8c05402",
    "outputId": "09a06a18-477a-418a-c7b6-4e055107904a"
   },
   "outputs": [
    {
     "data": {
      "text/plain": [
       "'PYTHON'"
      ]
     },
     "execution_count": 94,
     "metadata": {},
     "output_type": "execute_result"
    }
   ],
   "source": [
    "str1[6:12] # String slicing - Retreive all characters between 6 - 12 index loc"
   ]
  },
  {
   "cell_type": "code",
   "execution_count": null,
   "id": "0800b819",
   "metadata": {
    "id": "0800b819",
    "outputId": "8c53bf94-e31c-42d3-f1a7-f4aa21fb2833"
   },
   "outputs": [
    {
     "data": {
      "text/plain": [
       "'THON'"
      ]
     },
     "execution_count": 95,
     "metadata": {},
     "output_type": "execute_result"
    }
   ],
   "source": [
    "str1[-4:] # Retreive last four characters of the string"
   ]
  },
  {
   "cell_type": "code",
   "execution_count": null,
   "id": "804cb572",
   "metadata": {
    "id": "804cb572",
    "outputId": "7d4035cb-bdc4-41cb-f992-565412f23444"
   },
   "outputs": [
    {
     "data": {
      "text/plain": [
       "'PYTHON'"
      ]
     },
     "execution_count": 96,
     "metadata": {},
     "output_type": "execute_result"
    }
   ],
   "source": [
    "str1[-6:] # Retreive last six characters of the string"
   ]
  },
  {
   "cell_type": "code",
   "execution_count": null,
   "id": "b2deabc1",
   "metadata": {
    "id": "b2deabc1",
    "outputId": "29b88b61-8c47-4d0a-ce49-bed4ad9d1a0f"
   },
   "outputs": [
    {
     "data": {
      "text/plain": [
       "'HELL'"
      ]
     },
     "execution_count": 97,
     "metadata": {},
     "output_type": "execute_result"
    }
   ],
   "source": [
    "str1[:4] # Retreive first four characters of the string"
   ]
  },
  {
   "cell_type": "code",
   "execution_count": null,
   "id": "c293a48d",
   "metadata": {
    "id": "c293a48d",
    "outputId": "2745db19-1df1-40aa-f8ff-563864bbb4fd"
   },
   "outputs": [
    {
     "data": {
      "text/plain": [
       "'HELLO '"
      ]
     },
     "execution_count": 98,
     "metadata": {},
     "output_type": "execute_result"
    }
   ],
   "source": [
    "str1[:6] # Retreive first six characters of the string"
   ]
  },
  {
   "cell_type": "markdown",
   "id": "aece22fe",
   "metadata": {
    "id": "aece22fe"
   },
   "source": [
    "### Update & Delete String"
   ]
  },
  {
   "cell_type": "code",
   "execution_count": null,
   "id": "c2b2ff6e",
   "metadata": {
    "id": "c2b2ff6e",
    "outputId": "6352bd55-9c18-4562-cc0e-41f872f2aeed"
   },
   "outputs": [
    {
     "data": {
      "text/plain": [
       "'HELLO PYTHON'"
      ]
     },
     "execution_count": 99,
     "metadata": {},
     "output_type": "execute_result"
    }
   ],
   "source": [
    "str1"
   ]
  },
  {
   "cell_type": "code",
   "execution_count": null,
   "id": "3b21f380",
   "metadata": {
    "id": "3b21f380",
    "outputId": "aa31b05a-a651-4516-daff-93ecf17bdfc8"
   },
   "outputs": [
    {
     "ename": "TypeError",
     "evalue": "'str' object does not support item assignment",
     "output_type": "error",
     "traceback": [
      "\u001b[1;31m---------------------------------------------------------------------------\u001b[0m",
      "\u001b[1;31mTypeError\u001b[0m                                 Traceback (most recent call last)",
      "Cell \u001b[1;32mIn[100], line 2\u001b[0m\n\u001b[0;32m      1\u001b[0m \u001b[38;5;66;03m#Strings are immutable which means elements of a string cannot be changed once \u001b[39;00m\n\u001b[1;32m----> 2\u001b[0m str1[\u001b[38;5;241m0\u001b[39m:\u001b[38;5;241m5\u001b[39m] \u001b[38;5;241m=\u001b[39m \u001b[38;5;124m'\u001b[39m\u001b[38;5;124mHOLAA\u001b[39m\u001b[38;5;124m'\u001b[39m\n",
      "\u001b[1;31mTypeError\u001b[0m: 'str' object does not support item assignment"
     ]
    }
   ],
   "source": [
    "#Strings are immutable which means elements of a string cannot be changed once\n",
    "str1[0:5] = 'HOLAA'"
   ]
  },
  {
   "cell_type": "code",
   "execution_count": null,
   "id": "8b2cf541",
   "metadata": {
    "id": "8b2cf541"
   },
   "outputs": [],
   "source": [
    "del str1 # Delete a string\n",
    "print(srt1)"
   ]
  },
  {
   "cell_type": "markdown",
   "id": "a754f21e",
   "metadata": {
    "id": "a754f21e"
   },
   "source": [
    "### String concatenation"
   ]
  },
  {
   "cell_type": "code",
   "execution_count": null,
   "id": "86282edf",
   "metadata": {
    "id": "86282edf"
   },
   "outputs": [],
   "source": [
    "# String concatenation\n",
    "s1 = \"Hello\"\n",
    "s2 = \"Asif\"\n",
    "s3 = s1 + s2\n",
    "print(s3)"
   ]
  },
  {
   "cell_type": "code",
   "execution_count": null,
   "id": "55746cbc",
   "metadata": {
    "id": "55746cbc",
    "outputId": "87d7b6eb-315b-4f2b-c09e-04673b89da34"
   },
   "outputs": [
    {
     "name": "stdout",
     "output_type": "stream",
     "text": [
      "Hello SAURABH\n"
     ]
    }
   ],
   "source": [
    "# String concatenation\n",
    "s1 = \"Hello\"\n",
    "s2 = \"SAURABH\"\n",
    "s3 = s1 + \" \" + s2\n",
    "print(s3)"
   ]
  },
  {
   "cell_type": "markdown",
   "id": "5ed332dc",
   "metadata": {
    "id": "5ed332dc"
   },
   "source": [
    "## Iterating through a String"
   ]
  },
  {
   "cell_type": "code",
   "execution_count": null,
   "id": "1a4bc189",
   "metadata": {
    "id": "1a4bc189"
   },
   "outputs": [],
   "source": [
    "mystr1 = \"Hello Everyone\""
   ]
  },
  {
   "cell_type": "code",
   "execution_count": null,
   "id": "165ef099",
   "metadata": {
    "id": "165ef099",
    "outputId": "38f062c6-a379-4b5f-8a32-958277686a20"
   },
   "outputs": [
    {
     "name": "stdout",
     "output_type": "stream",
     "text": [
      "H\n",
      "e\n",
      "l\n",
      "l\n",
      "o\n",
      " \n",
      "E\n",
      "v\n",
      "e\n",
      "r\n",
      "y\n",
      "o\n",
      "n\n",
      "e\n"
     ]
    }
   ],
   "source": [
    "#Iteration\n",
    "for i in mystr1:\n",
    "  print(i)"
   ]
  },
  {
   "cell_type": "code",
   "execution_count": null,
   "id": "cbb71997",
   "metadata": {
    "id": "cbb71997",
    "outputId": "ba0b9efe-b099-414a-d9e6-81399842996d"
   },
   "outputs": [
    {
     "name": "stdout",
     "output_type": "stream",
     "text": [
      "(0, 'H')\n",
      "(1, 'e')\n",
      "(2, 'l')\n",
      "(3, 'l')\n",
      "(4, 'o')\n",
      "(5, ' ')\n",
      "(6, 'E')\n",
      "(7, 'v')\n",
      "(8, 'e')\n",
      "(9, 'r')\n",
      "(10, 'y')\n",
      "(11, 'o')\n",
      "(12, 'n')\n",
      "(13, 'e')\n"
     ]
    }
   ],
   "source": [
    "for i in enumerate(mystr1):\n",
    "  print(i)"
   ]
  },
  {
   "cell_type": "code",
   "execution_count": null,
   "id": "c4deb8b6",
   "metadata": {
    "id": "c4deb8b6",
    "outputId": "8ef86255-7a95-4a79-e5ac-a872427b43bc"
   },
   "outputs": [
    {
     "data": {
      "text/plain": [
       "[(0, 'H'),\n",
       " (1, 'e'),\n",
       " (2, 'l'),\n",
       " (3, 'l'),\n",
       " (4, 'o'),\n",
       " (5, ' '),\n",
       " (6, 'E'),\n",
       " (7, 'v'),\n",
       " (8, 'e'),\n",
       " (9, 'r'),\n",
       " (10, 'y'),\n",
       " (11, 'o'),\n",
       " (12, 'n'),\n",
       " (13, 'e')]"
      ]
     },
     "execution_count": 105,
     "metadata": {},
     "output_type": "execute_result"
    }
   ],
   "source": [
    "list(enumerate(mystr1)) # Enumerate method adds a counter to an iterable and return the value"
   ]
  },
  {
   "cell_type": "markdown",
   "id": "884ef040",
   "metadata": {
    "id": "884ef040"
   },
   "source": [
    "## String Membership"
   ]
  },
  {
   "cell_type": "code",
   "execution_count": null,
   "id": "c40feba3",
   "metadata": {
    "id": "c40feba3",
    "outputId": "5be23569-f256-4e92-c774-adeaf5739752"
   },
   "outputs": [
    {
     "name": "stdout",
     "output_type": "stream",
     "text": [
      "True\n",
      "True\n",
      "False\n"
     ]
    }
   ],
   "source": [
    "# String membership\n",
    "mystr1 = \"Hello Everyone\"\n",
    "print ('Hello' in mystr1) # Check whether substring \"Hello\" is present in string\n",
    "print ('Everyone' in mystr1) # Check whether substring \"Everyone\" is present in string\n",
    "print ('Hi' in mystr1) # Check whether substring \"Hi\" is present in string \"mysrt"
   ]
  },
  {
   "cell_type": "markdown",
   "id": "b19765e9",
   "metadata": {
    "id": "b19765e9"
   },
   "source": [
    "## String Partitioning"
   ]
  },
  {
   "cell_type": "code",
   "execution_count": null,
   "id": "ea108e90",
   "metadata": {
    "id": "ea108e90",
    "outputId": "a983771a-6fe1-4670-c088-53a97dc6b22c"
   },
   "outputs": [
    {
     "name": "stdout",
     "output_type": "stream",
     "text": [
      "('Natural language processing with Python ', 'and', ' R and Java')\n"
     ]
    }
   ],
   "source": [
    "\"\"\"\n",
    "The partition() method searches for a specified string and splits the string into\n",
    "- The first element contains the part before the argument string.\n",
    "- The second element contains the argument string.\n",
    "- The third element contains the part after the argument string.\n",
    "\"\"\"\n",
    "str5 = \"Natural language processing with Python and R and Java\"\n",
    "L = str5.partition(\"and\")\n",
    "print(L)"
   ]
  },
  {
   "cell_type": "code",
   "execution_count": null,
   "id": "da7e4c8b",
   "metadata": {
    "id": "da7e4c8b",
    "outputId": "ecf231fc-565b-4082-a4f3-f7b7e90d9df0"
   },
   "outputs": [
    {
     "name": "stdout",
     "output_type": "stream",
     "text": [
      "('Natural language processing with Python and R ', 'and', ' Java')\n"
     ]
    }
   ],
   "source": [
    "\"\"\"\n",
    "The rpartition() method searches for the last occurence of the specified string a\n",
    "containing three elements.\n",
    "- The first element contains the part before the argument string.\n",
    "- The second element contains the argument string.\n",
    "- The third element contains the part after the argument string.\n",
    "\"\"\"\n",
    "str5 = \"Natural language processing with Python and R and Java\"\n",
    "L = str5.rpartition(\"and\")\n",
    "print(L)"
   ]
  },
  {
   "cell_type": "markdown",
   "id": "d6a069b4",
   "metadata": {
    "id": "d6a069b4"
   },
   "source": [
    "## String Functions"
   ]
  },
  {
   "cell_type": "code",
   "execution_count": null,
   "id": "75ba4c5d",
   "metadata": {
    "id": "75ba4c5d",
    "outputId": "4f9ca8be-98b3-4541-de50-d2283b2c4f97"
   },
   "outputs": [
    {
     "data": {
      "text/plain": [
       "' Hello Everyone '"
      ]
     },
     "execution_count": 109,
     "metadata": {},
     "output_type": "execute_result"
    }
   ],
   "source": [
    "mystr2 = \" Hello Everyone \"\n",
    "mystr2"
   ]
  },
  {
   "cell_type": "code",
   "execution_count": null,
   "id": "758e8881",
   "metadata": {
    "id": "758e8881",
    "outputId": "3ef9e91b-28ce-486c-ed1c-66aebf40f98d"
   },
   "outputs": [
    {
     "data": {
      "text/plain": [
       "'Hello Everyone'"
      ]
     },
     "execution_count": 110,
     "metadata": {},
     "output_type": "execute_result"
    }
   ],
   "source": [
    "mystr2.strip() # Removes white space from begining & end"
   ]
  },
  {
   "cell_type": "code",
   "execution_count": null,
   "id": "7e1d7c77",
   "metadata": {
    "id": "7e1d7c77",
    "outputId": "dd3f8371-dfcb-417a-b0a9-44f5805486b0"
   },
   "outputs": [
    {
     "data": {
      "text/plain": [
       "' Hello Everyone'"
      ]
     },
     "execution_count": 111,
     "metadata": {},
     "output_type": "execute_result"
    }
   ],
   "source": [
    "mystr2.rstrip() # Removes all whitespaces at the end of the string"
   ]
  },
  {
   "cell_type": "code",
   "execution_count": null,
   "id": "fc347441",
   "metadata": {
    "id": "fc347441",
    "outputId": "30850961-475f-409b-8487-89e8b34041dd"
   },
   "outputs": [
    {
     "data": {
      "text/plain": [
       "'Hello Everyone '"
      ]
     },
     "execution_count": 112,
     "metadata": {},
     "output_type": "execute_result"
    }
   ],
   "source": [
    "mystr2.lstrip() # Removes all whitespaces at the begining of the string"
   ]
  },
  {
   "cell_type": "code",
   "execution_count": null,
   "id": "8d4b3c41",
   "metadata": {
    "id": "8d4b3c41",
    "outputId": "68e157e1-65b4-4a8b-c83d-5223e92d53fa"
   },
   "outputs": [
    {
     "data": {
      "text/plain": [
       "'*********Hello Everyone***********All the Best**********'"
      ]
     },
     "execution_count": 113,
     "metadata": {},
     "output_type": "execute_result"
    }
   ],
   "source": [
    "mystr2 = \"*********Hello Everyone***********All the Best**********\"\n",
    "mystr2"
   ]
  },
  {
   "cell_type": "code",
   "execution_count": null,
   "id": "98055bf9",
   "metadata": {
    "id": "98055bf9",
    "outputId": "4ee09d2a-32ed-4359-b4a9-2aa2b54191d4"
   },
   "outputs": [
    {
     "data": {
      "text/plain": [
       "'Hello Everyone***********All the Best'"
      ]
     },
     "execution_count": 114,
     "metadata": {},
     "output_type": "execute_result"
    }
   ],
   "source": [
    "mystr2.strip('*') # Removes all '*' characters from begining & end of the string"
   ]
  },
  {
   "cell_type": "code",
   "execution_count": null,
   "id": "3b9dd137",
   "metadata": {
    "id": "3b9dd137",
    "outputId": "26aadfbb-c7b9-40e2-b350-9098760b3927"
   },
   "outputs": [
    {
     "data": {
      "text/plain": [
       "'*********Hello Everyone***********All the Best'"
      ]
     },
     "execution_count": 115,
     "metadata": {},
     "output_type": "execute_result"
    }
   ],
   "source": [
    "mystr2.rstrip('*') # Removes all '*' characters at the end of the string"
   ]
  },
  {
   "cell_type": "code",
   "execution_count": null,
   "id": "cd19b061",
   "metadata": {
    "id": "cd19b061",
    "outputId": "dd00b1cc-c87f-434e-adaa-38cfbfcc0bc9"
   },
   "outputs": [
    {
     "data": {
      "text/plain": [
       "'Hello Everyone***********All the Best**********'"
      ]
     },
     "execution_count": 116,
     "metadata": {},
     "output_type": "execute_result"
    }
   ],
   "source": [
    "mystr2.lstrip('*') # Removes all '*' characters at the begining of the string"
   ]
  },
  {
   "cell_type": "code",
   "execution_count": null,
   "id": "b5f519fd",
   "metadata": {
    "id": "b5f519fd"
   },
   "outputs": [],
   "source": [
    "mystr2 = \" Hello Everyone \""
   ]
  },
  {
   "cell_type": "code",
   "execution_count": null,
   "id": "43e4ae67",
   "metadata": {
    "id": "43e4ae67",
    "outputId": "40e9b68c-50b7-4e17-8e4a-f1d201379d25"
   },
   "outputs": [
    {
     "data": {
      "text/plain": [
       "' hello everyone '"
      ]
     },
     "execution_count": 118,
     "metadata": {},
     "output_type": "execute_result"
    }
   ],
   "source": [
    "mystr2.lower() # Return whole string in lowercase"
   ]
  },
  {
   "cell_type": "code",
   "execution_count": null,
   "id": "017a6556",
   "metadata": {
    "id": "017a6556",
    "outputId": "ce38a9b7-d112-448a-8bf8-1669a95ac098"
   },
   "outputs": [
    {
     "data": {
      "text/plain": [
       "' HELLO EVERYONE '"
      ]
     },
     "execution_count": 119,
     "metadata": {},
     "output_type": "execute_result"
    }
   ],
   "source": [
    "mystr2.upper() # Return whole string in uppercase"
   ]
  },
  {
   "cell_type": "code",
   "execution_count": null,
   "id": "7a75987e",
   "metadata": {
    "id": "7a75987e",
    "outputId": "9d7cf778-d693-4ee6-f418-504fdd7f70a2"
   },
   "outputs": [
    {
     "data": {
      "text/plain": [
       "' Hollo Everyone '"
      ]
     },
     "execution_count": 120,
     "metadata": {},
     "output_type": "execute_result"
    }
   ],
   "source": [
    "mystr2.replace(\"He\" , \"Ho\") #Replace substring \"He\" with \"Ho\""
   ]
  },
  {
   "cell_type": "code",
   "execution_count": null,
   "id": "35ff62b0",
   "metadata": {
    "id": "35ff62b0",
    "outputId": "ee2c50f0-23fb-4e63-8b60-02b4bdc5da31"
   },
   "outputs": [
    {
     "data": {
      "text/plain": [
       "'HelloEveryone'"
      ]
     },
     "execution_count": 121,
     "metadata": {},
     "output_type": "execute_result"
    }
   ],
   "source": [
    "mystr2.replace(\" \" , \"\") # Remove all whitespaces using replace function"
   ]
  },
  {
   "cell_type": "code",
   "execution_count": null,
   "id": "c8fdbe46",
   "metadata": {
    "id": "c8fdbe46"
   },
   "outputs": [],
   "source": [
    "mystr5 = \"one two Three one two two three\""
   ]
  },
  {
   "cell_type": "code",
   "execution_count": null,
   "id": "d4980ea2",
   "metadata": {
    "id": "d4980ea2",
    "outputId": "c326e24a-a3a9-4f76-9f6f-b2950afa1d74"
   },
   "outputs": [
    {
     "data": {
      "text/plain": [
       "2"
      ]
     },
     "execution_count": 123,
     "metadata": {},
     "output_type": "execute_result"
    }
   ],
   "source": [
    "mystr5.count(\"one\") # Number of times substring \"one\" occurred in string."
   ]
  },
  {
   "cell_type": "code",
   "execution_count": null,
   "id": "25842634",
   "metadata": {
    "id": "25842634",
    "outputId": "0ea30f90-ada7-4dba-c93b-27b8b990c182"
   },
   "outputs": [
    {
     "data": {
      "text/plain": [
       "3"
      ]
     },
     "execution_count": 124,
     "metadata": {},
     "output_type": "execute_result"
    }
   ],
   "source": [
    "mystr5.count(\"two\") # Number of times substring \"two\" occurred in string."
   ]
  },
  {
   "cell_type": "code",
   "execution_count": null,
   "id": "b7741d6d",
   "metadata": {
    "id": "b7741d6d",
    "outputId": "67a56fe7-dbaa-4748-f981-1d73da4d6470"
   },
   "outputs": [
    {
     "data": {
      "text/plain": [
       "True"
      ]
     },
     "execution_count": 125,
     "metadata": {},
     "output_type": "execute_result"
    }
   ],
   "source": [
    "mystr5.startswith(\"one\") # Return boolean value True if string starts with \"one\""
   ]
  },
  {
   "cell_type": "code",
   "execution_count": null,
   "id": "28ae217b",
   "metadata": {
    "id": "28ae217b",
    "outputId": "d489a728-e57d-4973-8e22-5996a02aebad"
   },
   "outputs": [
    {
     "data": {
      "text/plain": [
       "True"
      ]
     },
     "execution_count": 126,
     "metadata": {},
     "output_type": "execute_result"
    }
   ],
   "source": [
    "mystr5.endswith(\"three\") # Return boolean value True if string ends with \"three\""
   ]
  },
  {
   "cell_type": "code",
   "execution_count": null,
   "id": "17d35c59",
   "metadata": {
    "id": "17d35c59"
   },
   "outputs": [],
   "source": [
    "mystr4 = \"one two three four one two two three five five six seven six seven one one ten nine eleven ten ten nine\""
   ]
  },
  {
   "cell_type": "code",
   "execution_count": null,
   "id": "675fdb2d",
   "metadata": {
    "id": "675fdb2d",
    "outputId": "295f9026-645d-4f91-bdc5-9203fe3683da"
   },
   "outputs": [
    {
     "data": {
      "text/plain": [
       "['one',\n",
       " 'two',\n",
       " 'three',\n",
       " 'four',\n",
       " 'one',\n",
       " 'two',\n",
       " 'two',\n",
       " 'three',\n",
       " 'five',\n",
       " 'five',\n",
       " 'six',\n",
       " 'seven',\n",
       " 'six',\n",
       " 'seven',\n",
       " 'one',\n",
       " 'one',\n",
       " 'ten',\n",
       " 'nine',\n",
       " 'eleven',\n",
       " 'ten',\n",
       " 'ten',\n",
       " 'nine']"
      ]
     },
     "execution_count": 128,
     "metadata": {},
     "output_type": "execute_result"
    }
   ],
   "source": [
    "mylist = mystr4.split() # Split String into substrings\n",
    "mylist"
   ]
  },
  {
   "cell_type": "code",
   "execution_count": null,
   "id": "7feebfa4",
   "metadata": {
    "id": "7feebfa4",
    "outputId": "490fe798-8e22-466b-cf35-577172d9ea3d"
   },
   "outputs": [
    {
     "name": "stdout",
     "output_type": "stream",
     "text": [
      "Cost of item1 , item2 and item3 are 40 , 55 and 77\n"
     ]
    }
   ],
   "source": [
    "# Combining string & numbers using format method\n",
    "item1 = 40\n",
    "item2 = 55\n",
    "item3 = 77\n",
    "res = \"Cost of item1 , item2 and item3 are {} , {} and {}\"\n",
    "print(res.format(item1,item2,item3))"
   ]
  },
  {
   "cell_type": "code",
   "execution_count": null,
   "id": "0d4cf321",
   "metadata": {
    "id": "0d4cf321",
    "outputId": "e11392d0-ee5d-47bd-f8b9-8f07c644e7c2"
   },
   "outputs": [
    {
     "name": "stdout",
     "output_type": "stream",
     "text": [
      "Cost of item3 , item2 and item1 are 77 , 55 and 40\n"
     ]
    }
   ],
   "source": [
    "# Combining string & numbers using format method\n",
    "item1 = 40\n",
    "item2 = 55\n",
    "item3 = 77\n",
    "res = \"Cost of item3 , item2 and item1 are {2} , {1} and {0}\"\n",
    "print(res.format(item1,item2,item3))"
   ]
  },
  {
   "cell_type": "code",
   "execution_count": null,
   "id": "1128ccbc",
   "metadata": {
    "id": "1128ccbc",
    "outputId": "21298d9b-9b98-4fd7-eb6d-ba8771629947"
   },
   "outputs": [
    {
     "name": "stdout",
     "output_type": "stream",
     "text": [
      "                                          WELCOME EVERYONE                                          \n"
     ]
    }
   ],
   "source": [
    "str2 = \" WELCOME EVERYONE \"\n",
    "str2 = str2.center(100) # center align the string using a specific character as text\n",
    "print(str2)"
   ]
  },
  {
   "cell_type": "code",
   "execution_count": null,
   "id": "dcd00690",
   "metadata": {
    "id": "dcd00690",
    "outputId": "b9ebf5aa-2bfe-4204-a8c9-a0de3a62b91f"
   },
   "outputs": [
    {
     "name": "stdout",
     "output_type": "stream",
     "text": [
      "***************************************** WELCOME EVERYONE *****************************************\n"
     ]
    }
   ],
   "source": [
    "str2 = \" WELCOME EVERYONE \"\n",
    "str2 = str2.center(100,'*') # center align the string using a specific character\n",
    "print(str2)"
   ]
  },
  {
   "cell_type": "code",
   "execution_count": null,
   "id": "545b2af6",
   "metadata": {
    "id": "545b2af6",
    "outputId": "59c8b0a9-592d-4927-a828-0befd50b072f"
   },
   "outputs": [
    {
     "name": "stdout",
     "output_type": "stream",
     "text": [
      "                                 WELCOME EVERYONE \n"
     ]
    }
   ],
   "source": [
    "str2 = \" WELCOME EVERYONE \"\n",
    "str2 = str2.rjust(50) # Right align the string using a specific character\n",
    "print(str2)"
   ]
  },
  {
   "cell_type": "code",
   "execution_count": null,
   "id": "12ead264",
   "metadata": {
    "id": "12ead264",
    "outputId": "93fda1b7-b88e-4158-b773-6d5b835106d6"
   },
   "outputs": [
    {
     "name": "stdout",
     "output_type": "stream",
     "text": [
      "******************************** WELCOME EVERYONE \n"
     ]
    }
   ],
   "source": [
    "str2 = \" WELCOME EVERYONE \"\n",
    "str2 = str2.rjust(50,'*') # Right align the string using a specific character ('*')\n",
    "print(str2)"
   ]
  },
  {
   "cell_type": "code",
   "execution_count": null,
   "id": "8cd35baf",
   "metadata": {
    "id": "8cd35baf",
    "outputId": "824a7abb-c4c6-4b95-f585-0f4e81d83ff6"
   },
   "outputs": [
    {
     "name": "stdout",
     "output_type": "stream",
     "text": [
      "19\n"
     ]
    }
   ],
   "source": [
    "str4 = \"one two three four five six seven\"\n",
    "loc = str4.find(\"five\") # Find the location of word 'five' in the string \"str4\"\n",
    "print(loc)"
   ]
  },
  {
   "cell_type": "code",
   "execution_count": null,
   "id": "d6b9b91f",
   "metadata": {
    "id": "d6b9b91f",
    "outputId": "ced13672-36bc-4a93-ef27-aa1fe3906df1"
   },
   "outputs": [
    {
     "name": "stdout",
     "output_type": "stream",
     "text": [
      "19\n"
     ]
    }
   ],
   "source": [
    "str4 = \"one two three four five six seven\"\n",
    "loc = str4.index(\"five\") # Find the location of word 'five' in the string \"str4\"\n",
    "print(loc)"
   ]
  },
  {
   "cell_type": "code",
   "execution_count": null,
   "id": "a2043c1c",
   "metadata": {
    "id": "a2043c1c",
    "outputId": "ad7da1d0-a199-4af1-a0fe-c42461259d89"
   },
   "outputs": [
    {
     "name": "stdout",
     "output_type": "stream",
     "text": [
      "False\n",
      "True\n",
      "True\n",
      "True\n"
     ]
    }
   ],
   "source": [
    "mystr6 = '123456789'\n",
    "print(mystr6.isalpha()) # returns True if all the characters in the text are letter\n",
    "print(mystr6.isalnum()) # returns True if a string contains only letters or number\n",
    "print(mystr6.isdecimal()) # returns True if all the characters are decimals (0-9)\n",
    "print(mystr6.isnumeric()) # returns True if all the characters are numeric (0-9)"
   ]
  },
  {
   "cell_type": "code",
   "execution_count": null,
   "id": "f86fe0e4",
   "metadata": {
    "id": "f86fe0e4",
    "outputId": "122d9eea-c1a8-4b9a-d406-e70508883c5a"
   },
   "outputs": [
    {
     "name": "stdout",
     "output_type": "stream",
     "text": [
      "True\n",
      "True\n",
      "False\n",
      "False\n"
     ]
    }
   ],
   "source": [
    "mystr6 = 'abcde'\n",
    "print(mystr6.isalpha()) # returns True if all the characters in the text are letter\n",
    "print(mystr6.isalnum()) # returns True if a string contains only letters or number\n",
    "print(mystr6.isdecimal()) # returns True if all the characters are decimals (0-9)\n",
    "print(mystr6.isnumeric()) # returns True if all the characters are numeric (0-9)"
   ]
  },
  {
   "cell_type": "code",
   "execution_count": null,
   "id": "4f1d35c4",
   "metadata": {
    "id": "4f1d35c4",
    "outputId": "de2937af-2f5e-4c5c-9c40-9223600e55d6"
   },
   "outputs": [
    {
     "name": "stdout",
     "output_type": "stream",
     "text": [
      "False\n",
      "True\n",
      "False\n",
      "False\n"
     ]
    }
   ],
   "source": [
    "mystr6 = 'abc12309'\n",
    "print(mystr6.isalpha()) # returns True if all the characters in the text are letter\n",
    "print(mystr6.isalnum()) # returns True if a string contains only letters or number\n",
    "print(mystr6.isdecimal()) # returns True if all the characters are decimals (0-9)\n",
    "print(mystr6.isnumeric()) # returns True if all the characters are numeric (0-9)"
   ]
  },
  {
   "cell_type": "code",
   "execution_count": null,
   "id": "5997784b",
   "metadata": {
    "id": "5997784b",
    "outputId": "b5d2afff-a66c-4775-fca6-c6d8c5a8ebe4"
   },
   "outputs": [
    {
     "name": "stdout",
     "output_type": "stream",
     "text": [
      "True\n",
      "False\n"
     ]
    }
   ],
   "source": [
    "mystr7 = 'ABCDEF'\n",
    "print(mystr7.isupper()) # Returns True if all the characters are in upper case\n",
    "print(mystr7.islower()) # Returns True if all the characters are in lower case"
   ]
  },
  {
   "cell_type": "code",
   "execution_count": null,
   "id": "e3495d28",
   "metadata": {
    "id": "e3495d28",
    "outputId": "26b705b6-1565-45c9-84d2-697dabb972e8"
   },
   "outputs": [
    {
     "name": "stdout",
     "output_type": "stream",
     "text": [
      "False\n",
      "True\n"
     ]
    }
   ],
   "source": [
    "mystr8 = 'abcdef'\n",
    "print(mystr8.isupper()) # Returns True if all the characters are in upper case\n",
    "print(mystr8.islower()) # Returns True if all the characters are in lower case"
   ]
  },
  {
   "cell_type": "code",
   "execution_count": null,
   "id": "3b0c5a21",
   "metadata": {
    "id": "3b0c5a21",
    "outputId": "61b74f01-2699-4656-80b5-6ed14a60db07"
   },
   "outputs": [
    {
     "name": "stdout",
     "output_type": "stream",
     "text": [
      "51\n"
     ]
    }
   ],
   "source": [
    "str6 = \"one two three four one two two three five five six one ten eight ten nine\"\n",
    "loc = str6.rfind(\"one\") # last occurrence of word 'one' in string \"str6\"\n",
    "print(loc)"
   ]
  },
  {
   "cell_type": "code",
   "execution_count": null,
   "id": "ecd2e6d3",
   "metadata": {
    "id": "ecd2e6d3",
    "outputId": "e6320d48-b964-4458-ce6f-c2a263ba6274"
   },
   "outputs": [
    {
     "name": "stdout",
     "output_type": "stream",
     "text": [
      "51\n"
     ]
    }
   ],
   "source": [
    "loc = str6.rindex(\"one\") # last occurrence of word 'one' in string \"str6\"\n",
    "print(loc)"
   ]
  },
  {
   "cell_type": "code",
   "execution_count": null,
   "id": "8e69c1ef",
   "metadata": {
    "id": "8e69c1ef",
    "outputId": "3e1b8272-019e-4639-df20-cc0ad2ef47e7"
   },
   "outputs": [
    {
     "data": {
      "text/plain": [
       "' abc def ghi'"
      ]
     },
     "execution_count": 144,
     "metadata": {},
     "output_type": "execute_result"
    }
   ],
   "source": [
    "txt = \" abc def ghi \"\n",
    "txt.rstrip()"
   ]
  },
  {
   "cell_type": "code",
   "execution_count": null,
   "id": "5a854e29",
   "metadata": {
    "id": "5a854e29",
    "outputId": "1b9c2637-40cb-4b39-847b-aad1f5d1c1eb"
   },
   "outputs": [
    {
     "data": {
      "text/plain": [
       "'abc def ghi '"
      ]
     },
     "execution_count": 145,
     "metadata": {},
     "output_type": "execute_result"
    }
   ],
   "source": [
    "txt = \" abc def ghi \"\n",
    "txt.lstrip()"
   ]
  },
  {
   "cell_type": "code",
   "execution_count": null,
   "id": "3049e8cb",
   "metadata": {
    "id": "3049e8cb",
    "outputId": "2ede8dc9-b69c-4b5d-ed4d-3902bbb1d9a2"
   },
   "outputs": [
    {
     "data": {
      "text/plain": [
       "'abc def ghi'"
      ]
     },
     "execution_count": 146,
     "metadata": {},
     "output_type": "execute_result"
    }
   ],
   "source": [
    "txt = \" abc def ghi \"\n",
    "txt.strip()"
   ]
  },
  {
   "cell_type": "markdown",
   "id": "08246381",
   "metadata": {
    "id": "08246381"
   },
   "source": [
    "## Using Escape Character"
   ]
  },
  {
   "cell_type": "code",
   "execution_count": null,
   "id": "5a402269",
   "metadata": {
    "id": "5a402269",
    "outputId": "baa965e3-414d-446f-808c-3b405e74c229"
   },
   "outputs": [
    {
     "ename": "SyntaxError",
     "evalue": "invalid syntax (739327747.py, line 2)",
     "output_type": "error",
     "traceback": [
      "\u001b[1;36m  Cell \u001b[1;32mIn[147], line 2\u001b[1;36m\u001b[0m\n\u001b[1;33m    mystr = \"My favourite TV Series is \"Game of Thrones\"\"\u001b[0m\n\u001b[1;37m                                        ^\u001b[0m\n\u001b[1;31mSyntaxError\u001b[0m\u001b[1;31m:\u001b[0m invalid syntax\n"
     ]
    }
   ],
   "source": [
    "#Using double quotes in the string is not allowed.\n",
    "mystr = \"My favourite TV Series is \"Game of Thrones\"\""
   ]
  },
  {
   "cell_type": "code",
   "execution_count": null,
   "id": "591da469",
   "metadata": {
    "id": "591da469",
    "outputId": "5f8ecd95-ae52-44c9-917e-812155761ce3"
   },
   "outputs": [
    {
     "name": "stdout",
     "output_type": "stream",
     "text": [
      "My favourite series is \"Game of Thrones\"\n"
     ]
    }
   ],
   "source": [
    "#Using escape character to allow illegal characters\n",
    "mystr = \"My favourite series is \\\"Game of Thrones\\\"\"\n",
    "print(mystr)"
   ]
  },
  {
   "cell_type": "markdown",
   "id": "0af0b277",
   "metadata": {
    "id": "0af0b277"
   },
   "source": [
    "## List\n",
    "1) List is an ordered sequence of items.\n",
    "2) We can have different data types under a list. E.g we can have integer, float and string items in\n",
    "a same list."
   ]
  },
  {
   "cell_type": "markdown",
   "id": "65a23292",
   "metadata": {
    "id": "65a23292"
   },
   "source": [
    "### List Creation"
   ]
  },
  {
   "cell_type": "code",
   "execution_count": null,
   "id": "9d0d203c",
   "metadata": {
    "id": "9d0d203c"
   },
   "outputs": [],
   "source": [
    "list1 = [] # Empty List"
   ]
  },
  {
   "cell_type": "code",
   "execution_count": null,
   "id": "1cecb7bf",
   "metadata": {
    "id": "1cecb7bf",
    "outputId": "3b129afb-b094-4a18-f3ff-797bef917f2e"
   },
   "outputs": [
    {
     "name": "stdout",
     "output_type": "stream",
     "text": [
      "<class 'list'>\n"
     ]
    }
   ],
   "source": [
    "print(type(list1))"
   ]
  },
  {
   "cell_type": "code",
   "execution_count": null,
   "id": "0b1f5209",
   "metadata": {
    "id": "0b1f5209"
   },
   "outputs": [],
   "source": [
    "list2 = [10,30,60] # List of integers numbers"
   ]
  },
  {
   "cell_type": "code",
   "execution_count": null,
   "id": "b76fca89",
   "metadata": {
    "id": "b76fca89"
   },
   "outputs": [],
   "source": [
    "list3 = [10.77,30.66,60.89] # List of float numbers"
   ]
  },
  {
   "cell_type": "code",
   "execution_count": null,
   "id": "8755fab8",
   "metadata": {
    "id": "8755fab8"
   },
   "outputs": [],
   "source": [
    "list4 = ['one','two' , \"three\"] # List of strings"
   ]
  },
  {
   "cell_type": "code",
   "execution_count": null,
   "id": "08a30c64",
   "metadata": {
    "id": "08a30c64"
   },
   "outputs": [],
   "source": [
    "list5 = ['Asim', 25 ,[50, 100],[150, 90]] # Nested Lists"
   ]
  },
  {
   "cell_type": "code",
   "execution_count": null,
   "id": "f220df48",
   "metadata": {
    "id": "f220df48"
   },
   "outputs": [],
   "source": [
    "list6 = [100, 'Asim', 17.765] # List of mixed data types"
   ]
  },
  {
   "cell_type": "code",
   "execution_count": null,
   "id": "91a02882",
   "metadata": {
    "id": "91a02882"
   },
   "outputs": [],
   "source": [
    "list7 = ['Asim', 25 ,[50, 100],[150, 90] , {'John' , 'David'}]"
   ]
  },
  {
   "cell_type": "code",
   "execution_count": null,
   "id": "cb2e920f",
   "metadata": {
    "id": "cb2e920f",
    "outputId": "8057937a-3978-4511-efd0-67e6b91f8c7f"
   },
   "outputs": [
    {
     "data": {
      "text/plain": [
       "3"
      ]
     },
     "execution_count": 157,
     "metadata": {},
     "output_type": "execute_result"
    }
   ],
   "source": [
    "len(list6) #Length of list"
   ]
  },
  {
   "cell_type": "markdown",
   "id": "16d771dc",
   "metadata": {
    "id": "16d771dc"
   },
   "source": [
    "### List Indexing"
   ]
  },
  {
   "cell_type": "code",
   "execution_count": null,
   "id": "0ac70100",
   "metadata": {
    "id": "0ac70100",
    "outputId": "ec175915-9986-4bb5-bced-dde0733e8ce8"
   },
   "outputs": [
    {
     "data": {
      "text/plain": [
       "10"
      ]
     },
     "execution_count": 158,
     "metadata": {},
     "output_type": "execute_result"
    }
   ],
   "source": [
    "list2[0] # Retreive first element of the list"
   ]
  },
  {
   "cell_type": "code",
   "execution_count": null,
   "id": "afad009b",
   "metadata": {
    "id": "afad009b",
    "outputId": "73cb2059-ad85-4462-acd3-0887f53a8ded"
   },
   "outputs": [
    {
     "data": {
      "text/plain": [
       "'one'"
      ]
     },
     "execution_count": 159,
     "metadata": {},
     "output_type": "execute_result"
    }
   ],
   "source": [
    "list4[0] # Retreive first element of the list"
   ]
  },
  {
   "cell_type": "code",
   "execution_count": null,
   "id": "a406edba",
   "metadata": {
    "id": "a406edba",
    "outputId": "35eb6ffc-dd24-4efd-e52c-7c72b20e1ee6"
   },
   "outputs": [
    {
     "data": {
      "text/plain": [
       "'o'"
      ]
     },
     "execution_count": 160,
     "metadata": {},
     "output_type": "execute_result"
    }
   ],
   "source": [
    "list4[0][0] # Nested indexing - Access the first character of the first list elem"
   ]
  },
  {
   "cell_type": "code",
   "execution_count": null,
   "id": "51e15fbd",
   "metadata": {
    "id": "51e15fbd",
    "outputId": "8f058bbb-2e78-48c8-d4d0-43656e54bbf8"
   },
   "outputs": [
    {
     "data": {
      "text/plain": [
       "'three'"
      ]
     },
     "execution_count": 161,
     "metadata": {},
     "output_type": "execute_result"
    }
   ],
   "source": [
    "list4[-1] # Last item of the list"
   ]
  },
  {
   "cell_type": "code",
   "execution_count": null,
   "id": "b569e37f",
   "metadata": {
    "id": "b569e37f",
    "outputId": "54f3f988-ca04-410f-dce8-d2634feb3b2d"
   },
   "outputs": [
    {
     "data": {
      "text/plain": [
       "[150, 90]"
      ]
     },
     "execution_count": 162,
     "metadata": {},
     "output_type": "execute_result"
    }
   ],
   "source": [
    "list5[-1] # Last item of the list"
   ]
  },
  {
   "cell_type": "code",
   "execution_count": null,
   "id": "6aab4517",
   "metadata": {
    "id": "6aab4517"
   },
   "outputs": [],
   "source": []
  },
  {
   "cell_type": "code",
   "execution_count": null,
   "id": "910b8e01",
   "metadata": {
    "id": "910b8e01"
   },
   "outputs": [],
   "source": []
  },
  {
   "cell_type": "code",
   "execution_count": null,
   "id": "b8aaaf78",
   "metadata": {
    "id": "b8aaaf78"
   },
   "outputs": [],
   "source": []
  },
  {
   "cell_type": "code",
   "execution_count": null,
   "id": "950f38e0",
   "metadata": {
    "id": "950f38e0"
   },
   "outputs": [],
   "source": []
  },
  {
   "cell_type": "code",
   "execution_count": null,
   "id": "8f28cdf6",
   "metadata": {},
   "outputs": [],
   "source": []
  },
  {
   "cell_type": "code",
   "execution_count": null,
   "id": "4cf1236d",
   "metadata": {},
   "outputs": [],
   "source": []
  },
  {
   "cell_type": "code",
   "execution_count": null,
   "id": "9b2a8065",
   "metadata": {
    "id": "9b2a8065"
   },
   "outputs": [],
   "source": []
  }
 ],
 "metadata": {
  "colab": {
   "provenance": []
  },
  "kernelspec": {
   "display_name": "Python 3 (ipykernel)",
   "language": "python",
   "name": "python3"
  },
  "language_info": {
   "codemirror_mode": {
    "name": "ipython",
    "version": 3
   },
   "file_extension": ".py",
   "mimetype": "text/x-python",
   "name": "python",
   "nbconvert_exporter": "python",
   "pygments_lexer": "ipython3",
   "version": "3.9.6"
  }
 },
 "nbformat": 4,
 "nbformat_minor": 5
}
